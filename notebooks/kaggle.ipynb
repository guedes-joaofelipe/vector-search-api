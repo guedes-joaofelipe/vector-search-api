{
 "cells": [
  {
   "cell_type": "code",
   "execution_count": 12,
   "metadata": {},
   "outputs": [],
   "source": [
    "import os\n",
    "import numpy as np\n",
    "import pandas as pd\n",
    "from tqdm import tqdm\n",
    "from qdrant_client import models, QdrantClient\n",
    "from sentence_transformers import SentenceTransformer\n",
    "\n",
    "METADATA_FILEPATH = \"./../data/articles/articles.parquet\"\n",
    "DATABASE_PATH = \"./../qdrant_data\""
   ]
  },
  {
   "cell_type": "code",
   "execution_count": 6,
   "metadata": {},
   "outputs": [
    {
     "data": {
      "text/html": [
       "<div>\n",
       "<style scoped>\n",
       "    .dataframe tbody tr th:only-of-type {\n",
       "        vertical-align: middle;\n",
       "    }\n",
       "\n",
       "    .dataframe tbody tr th {\n",
       "        vertical-align: top;\n",
       "    }\n",
       "\n",
       "    .dataframe thead th {\n",
       "        text-align: right;\n",
       "    }\n",
       "</style>\n",
       "<table border=\"1\" class=\"dataframe\">\n",
       "  <thead>\n",
       "    <tr style=\"text-align: right;\">\n",
       "      <th></th>\n",
       "      <th>newsId</th>\n",
       "      <th>url</th>\n",
       "      <th>publishDate</th>\n",
       "      <th>title</th>\n",
       "      <th>titleCharCount</th>\n",
       "      <th>textCharCount</th>\n",
       "      <th>topics</th>\n",
       "      <th>body</th>\n",
       "    </tr>\n",
       "  </thead>\n",
       "  <tbody>\n",
       "    <tr>\n",
       "      <th>148094</th>\n",
       "      <td>58bc855d-87e3-4e3d-afd0-27c7fae77ac1</td>\n",
       "      <td>http://g1.globo.com/go/goias/noticia/2023/03/2...</td>\n",
       "      <td>2023-03-26 14:40:11</td>\n",
       "      <td>Jovem morre após levar choque ao pular muro de...</td>\n",
       "      <td>86</td>\n",
       "      <td>1678</td>\n",
       "      <td>[go]</td>\n",
       "      <td>Gabriel Feitosa da Silva, de 25 anos, morreu a...</td>\n",
       "    </tr>\n",
       "    <tr>\n",
       "      <th>148095</th>\n",
       "      <td>60b204c2-54c0-447b-a751-eda8f32a2bf3</td>\n",
       "      <td>http://g1.globo.com/sc/santa-catarina/noticia/...</td>\n",
       "      <td>2022-06-21 00:18:26</td>\n",
       "      <td>Corregedoria-Geral da Justiça apura conduta de...</td>\n",
       "      <td>104</td>\n",
       "      <td>4453</td>\n",
       "      <td>[sc]</td>\n",
       "      <td>A Corregedoria-Geral da Justiça está investiga...</td>\n",
       "    </tr>\n",
       "    <tr>\n",
       "      <th>148096</th>\n",
       "      <td>d7eab297-d17a-4634-ba6e-7699500e78bb</td>\n",
       "      <td>http://g1.globo.com/pe/pernambuco/blog/viver-n...</td>\n",
       "      <td>2022-12-19 17:37:11</td>\n",
       "      <td>\\nEstudo relata 1ª evidência de acasalamento d...</td>\n",
       "      <td>105</td>\n",
       "      <td>4551</td>\n",
       "      <td>[pe]</td>\n",
       "      <td>Registros de marca de cópula em tigres em Noro...</td>\n",
       "    </tr>\n",
       "    <tr>\n",
       "      <th>148097</th>\n",
       "      <td>132fb4d8-1182-4655-91cf-c809e3700642</td>\n",
       "      <td>http://g1.globo.com/ciencia-e-saude/noticia/a-...</td>\n",
       "      <td>2018-03-23 18:16:02</td>\n",
       "      <td>A trágica história por trás da 'múmia de extra...</td>\n",
       "      <td>76</td>\n",
       "      <td>2971</td>\n",
       "      <td>[mundo]</td>\n",
       "      <td>O esqueleto da múmia Ata tem 13 centímetros, m...</td>\n",
       "    </tr>\n",
       "    <tr>\n",
       "      <th>148098</th>\n",
       "      <td>9ff4179c-d58c-4040-920b-eb4c7dbd031b</td>\n",
       "      <td>http://g1.globo.com/ciencia/noticia/2023/03/14...</td>\n",
       "      <td>2023-03-14 11:06:08</td>\n",
       "      <td>Sonda da Nasa flagra dunas de areia 'atípicas'...</td>\n",
       "      <td>55</td>\n",
       "      <td>2059</td>\n",
       "      <td>[ciencia]</td>\n",
       "      <td>As dunas de areia circulares vista em uma imag...</td>\n",
       "    </tr>\n",
       "  </tbody>\n",
       "</table>\n",
       "</div>"
      ],
      "text/plain": [
       "                                      newsId  \\\n",
       "148094  58bc855d-87e3-4e3d-afd0-27c7fae77ac1   \n",
       "148095  60b204c2-54c0-447b-a751-eda8f32a2bf3   \n",
       "148096  d7eab297-d17a-4634-ba6e-7699500e78bb   \n",
       "148097  132fb4d8-1182-4655-91cf-c809e3700642   \n",
       "148098  9ff4179c-d58c-4040-920b-eb4c7dbd031b   \n",
       "\n",
       "                                                      url         publishDate  \\\n",
       "148094  http://g1.globo.com/go/goias/noticia/2023/03/2... 2023-03-26 14:40:11   \n",
       "148095  http://g1.globo.com/sc/santa-catarina/noticia/... 2022-06-21 00:18:26   \n",
       "148096  http://g1.globo.com/pe/pernambuco/blog/viver-n... 2022-12-19 17:37:11   \n",
       "148097  http://g1.globo.com/ciencia-e-saude/noticia/a-... 2018-03-23 18:16:02   \n",
       "148098  http://g1.globo.com/ciencia/noticia/2023/03/14... 2023-03-14 11:06:08   \n",
       "\n",
       "                                                    title  titleCharCount  \\\n",
       "148094  Jovem morre após levar choque ao pular muro de...              86   \n",
       "148095  Corregedoria-Geral da Justiça apura conduta de...             104   \n",
       "148096  \\nEstudo relata 1ª evidência de acasalamento d...             105   \n",
       "148097  A trágica história por trás da 'múmia de extra...              76   \n",
       "148098  Sonda da Nasa flagra dunas de areia 'atípicas'...              55   \n",
       "\n",
       "        textCharCount     topics  \\\n",
       "148094           1678       [go]   \n",
       "148095           4453       [sc]   \n",
       "148096           4551       [pe]   \n",
       "148097           2971    [mundo]   \n",
       "148098           2059  [ciencia]   \n",
       "\n",
       "                                                     body  \n",
       "148094  Gabriel Feitosa da Silva, de 25 anos, morreu a...  \n",
       "148095  A Corregedoria-Geral da Justiça está investiga...  \n",
       "148096  Registros de marca de cópula em tigres em Noro...  \n",
       "148097  O esqueleto da múmia Ata tem 13 centímetros, m...  \n",
       "148098  As dunas de areia circulares vista em uma imag...  "
      ]
     },
     "execution_count": 6,
     "metadata": {},
     "output_type": "execute_result"
    }
   ],
   "source": [
    "df = pd.read_parquet(METADATA_FILEPATH)\n",
    "df.tail()"
   ]
  },
  {
   "cell_type": "code",
   "execution_count": 11,
   "metadata": {},
   "outputs": [
    {
     "data": {
      "text/html": [
       "<div>\n",
       "<style scoped>\n",
       "    .dataframe tbody tr th:only-of-type {\n",
       "        vertical-align: middle;\n",
       "    }\n",
       "\n",
       "    .dataframe tbody tr th {\n",
       "        vertical-align: top;\n",
       "    }\n",
       "\n",
       "    .dataframe thead th {\n",
       "        text-align: right;\n",
       "    }\n",
       "</style>\n",
       "<table border=\"1\" class=\"dataframe\">\n",
       "  <thead>\n",
       "    <tr style=\"text-align: right;\">\n",
       "      <th></th>\n",
       "      <th>newsId</th>\n",
       "      <th>url</th>\n",
       "      <th>publishDate</th>\n",
       "      <th>title</th>\n",
       "      <th>titleCharCount</th>\n",
       "      <th>textCharCount</th>\n",
       "      <th>topics</th>\n",
       "      <th>body</th>\n",
       "      <th>sentence</th>\n",
       "    </tr>\n",
       "  </thead>\n",
       "  <tbody>\n",
       "    <tr>\n",
       "      <th>148094</th>\n",
       "      <td>58bc855d-87e3-4e3d-afd0-27c7fae77ac1</td>\n",
       "      <td>http://g1.globo.com/go/goias/noticia/2023/03/2...</td>\n",
       "      <td>2023-03-26 14:40:11</td>\n",
       "      <td>Jovem morre após levar choque ao pular muro de...</td>\n",
       "      <td>86</td>\n",
       "      <td>1678</td>\n",
       "      <td>[go]</td>\n",
       "      <td>Gabriel Feitosa da Silva, de 25 anos, morreu a...</td>\n",
       "      <td>Jovem morre após levar choque ao pular muro de...</td>\n",
       "    </tr>\n",
       "    <tr>\n",
       "      <th>148095</th>\n",
       "      <td>60b204c2-54c0-447b-a751-eda8f32a2bf3</td>\n",
       "      <td>http://g1.globo.com/sc/santa-catarina/noticia/...</td>\n",
       "      <td>2022-06-21 00:18:26</td>\n",
       "      <td>Corregedoria-Geral da Justiça apura conduta de...</td>\n",
       "      <td>104</td>\n",
       "      <td>4453</td>\n",
       "      <td>[sc]</td>\n",
       "      <td>A Corregedoria-Geral da Justiça está investiga...</td>\n",
       "      <td>Corregedoria-Geral da Justiça apura conduta de...</td>\n",
       "    </tr>\n",
       "    <tr>\n",
       "      <th>148096</th>\n",
       "      <td>d7eab297-d17a-4634-ba6e-7699500e78bb</td>\n",
       "      <td>http://g1.globo.com/pe/pernambuco/blog/viver-n...</td>\n",
       "      <td>2022-12-19 17:37:11</td>\n",
       "      <td>\\nEstudo relata 1ª evidência de acasalamento d...</td>\n",
       "      <td>105</td>\n",
       "      <td>4551</td>\n",
       "      <td>[pe]</td>\n",
       "      <td>Registros de marca de cópula em tigres em Noro...</td>\n",
       "      <td>\\nEstudo relata 1ª evidência de acasalamento d...</td>\n",
       "    </tr>\n",
       "    <tr>\n",
       "      <th>148097</th>\n",
       "      <td>132fb4d8-1182-4655-91cf-c809e3700642</td>\n",
       "      <td>http://g1.globo.com/ciencia-e-saude/noticia/a-...</td>\n",
       "      <td>2018-03-23 18:16:02</td>\n",
       "      <td>A trágica história por trás da 'múmia de extra...</td>\n",
       "      <td>76</td>\n",
       "      <td>2971</td>\n",
       "      <td>[mundo]</td>\n",
       "      <td>O esqueleto da múmia Ata tem 13 centímetros, m...</td>\n",
       "      <td>A trágica história por trás da 'múmia de extra...</td>\n",
       "    </tr>\n",
       "    <tr>\n",
       "      <th>148098</th>\n",
       "      <td>9ff4179c-d58c-4040-920b-eb4c7dbd031b</td>\n",
       "      <td>http://g1.globo.com/ciencia/noticia/2023/03/14...</td>\n",
       "      <td>2023-03-14 11:06:08</td>\n",
       "      <td>Sonda da Nasa flagra dunas de areia 'atípicas'...</td>\n",
       "      <td>55</td>\n",
       "      <td>2059</td>\n",
       "      <td>[ciencia]</td>\n",
       "      <td>As dunas de areia circulares vista em uma imag...</td>\n",
       "      <td>Sonda da Nasa flagra dunas de areia 'atípicas'...</td>\n",
       "    </tr>\n",
       "  </tbody>\n",
       "</table>\n",
       "</div>"
      ],
      "text/plain": [
       "                                      newsId  \\\n",
       "148094  58bc855d-87e3-4e3d-afd0-27c7fae77ac1   \n",
       "148095  60b204c2-54c0-447b-a751-eda8f32a2bf3   \n",
       "148096  d7eab297-d17a-4634-ba6e-7699500e78bb   \n",
       "148097  132fb4d8-1182-4655-91cf-c809e3700642   \n",
       "148098  9ff4179c-d58c-4040-920b-eb4c7dbd031b   \n",
       "\n",
       "                                                      url         publishDate  \\\n",
       "148094  http://g1.globo.com/go/goias/noticia/2023/03/2... 2023-03-26 14:40:11   \n",
       "148095  http://g1.globo.com/sc/santa-catarina/noticia/... 2022-06-21 00:18:26   \n",
       "148096  http://g1.globo.com/pe/pernambuco/blog/viver-n... 2022-12-19 17:37:11   \n",
       "148097  http://g1.globo.com/ciencia-e-saude/noticia/a-... 2018-03-23 18:16:02   \n",
       "148098  http://g1.globo.com/ciencia/noticia/2023/03/14... 2023-03-14 11:06:08   \n",
       "\n",
       "                                                    title  titleCharCount  \\\n",
       "148094  Jovem morre após levar choque ao pular muro de...              86   \n",
       "148095  Corregedoria-Geral da Justiça apura conduta de...             104   \n",
       "148096  \\nEstudo relata 1ª evidência de acasalamento d...             105   \n",
       "148097  A trágica história por trás da 'múmia de extra...              76   \n",
       "148098  Sonda da Nasa flagra dunas de areia 'atípicas'...              55   \n",
       "\n",
       "        textCharCount     topics  \\\n",
       "148094           1678       [go]   \n",
       "148095           4453       [sc]   \n",
       "148096           4551       [pe]   \n",
       "148097           2971    [mundo]   \n",
       "148098           2059  [ciencia]   \n",
       "\n",
       "                                                     body  \\\n",
       "148094  Gabriel Feitosa da Silva, de 25 anos, morreu a...   \n",
       "148095  A Corregedoria-Geral da Justiça está investiga...   \n",
       "148096  Registros de marca de cópula em tigres em Noro...   \n",
       "148097  O esqueleto da múmia Ata tem 13 centímetros, m...   \n",
       "148098  As dunas de areia circulares vista em uma imag...   \n",
       "\n",
       "                                                 sentence  \n",
       "148094  Jovem morre após levar choque ao pular muro de...  \n",
       "148095  Corregedoria-Geral da Justiça apura conduta de...  \n",
       "148096  \\nEstudo relata 1ª evidência de acasalamento d...  \n",
       "148097  A trágica história por trás da 'múmia de extra...  \n",
       "148098  Sonda da Nasa flagra dunas de areia 'atípicas'...  "
      ]
     },
     "execution_count": 11,
     "metadata": {},
     "output_type": "execute_result"
    }
   ],
   "source": [
    "def generate_item_sentence(row: pd.Series) -> str:\n",
    "    return ' '.join([row[\"title\"], row[\"body\"]])\n",
    "\n",
    "df[\"sentence\"] = df.apply(generate_item_sentence, axis=1)\n",
    "df.tail()"
   ]
  },
  {
   "cell_type": "code",
   "execution_count": 126,
   "metadata": {},
   "outputs": [
    {
     "data": {
      "text/html": [
       "<div>\n",
       "<style scoped>\n",
       "    .dataframe tbody tr th:only-of-type {\n",
       "        vertical-align: middle;\n",
       "    }\n",
       "\n",
       "    .dataframe tbody tr th {\n",
       "        vertical-align: top;\n",
       "    }\n",
       "\n",
       "    .dataframe thead th {\n",
       "        text-align: right;\n",
       "    }\n",
       "</style>\n",
       "<table border=\"1\" class=\"dataframe\">\n",
       "  <thead>\n",
       "    <tr style=\"text-align: right;\">\n",
       "      <th></th>\n",
       "      <th>newsId</th>\n",
       "      <th>url</th>\n",
       "      <th>title</th>\n",
       "      <th>titleCharCount</th>\n",
       "      <th>textCharCount</th>\n",
       "      <th>topics</th>\n",
       "      <th>body</th>\n",
       "      <th>sentence</th>\n",
       "      <th>publishTimestamp</th>\n",
       "    </tr>\n",
       "  </thead>\n",
       "  <tbody>\n",
       "    <tr>\n",
       "      <th>12</th>\n",
       "      <td>c840c6a6-626b-419b-996e-73afdee03a29</td>\n",
       "      <td>http://g1.globo.com/sp/sao-carlos-regiao/notic...</td>\n",
       "      <td>Polícia Civil prende três suspeitos envolvidos...</td>\n",
       "      <td>98</td>\n",
       "      <td>3139</td>\n",
       "      <td>[sp]</td>\n",
       "      <td>Idosa morre após ser baleada em Vargem Grande ...</td>\n",
       "      <td>Polícia Civil prende três suspeitos envolvidos...</td>\n",
       "      <td>1.682343e+09</td>\n",
       "    </tr>\n",
       "    <tr>\n",
       "      <th>172</th>\n",
       "      <td>e33d0e6d-aafd-41f4-bef1-b107b76fc673</td>\n",
       "      <td>http://g1.globo.com/pr/campos-gerais-sul/notic...</td>\n",
       "      <td>Pedreiro é condenado a 14 anos de prisão por m...</td>\n",
       "      <td>100</td>\n",
       "      <td>1912</td>\n",
       "      <td>[pr]</td>\n",
       "      <td>Pedreiro enfrenta júri popular por morte de co...</td>\n",
       "      <td>Pedreiro é condenado a 14 anos de prisão por m...</td>\n",
       "      <td>1.682453e+09</td>\n",
       "    </tr>\n",
       "    <tr>\n",
       "      <th>306</th>\n",
       "      <td>7150e244-a403-4e63-8831-3e9ca99a4afd</td>\n",
       "      <td>http://g1.globo.com/ap/amapa/noticia/2023/04/2...</td>\n",
       "      <td>Covid-19: veja onde Macapá oferta vacinas em 2...</td>\n",
       "      <td>57</td>\n",
       "      <td>2345</td>\n",
       "      <td>[ap]</td>\n",
       "      <td>Vacinação em Macapá\\nPMM/Divulgação\\nNesta sex...</td>\n",
       "      <td>Covid-19: veja onde Macapá oferta vacinas em 2...</td>\n",
       "      <td>1.682641e+09</td>\n",
       "    </tr>\n",
       "    <tr>\n",
       "      <th>336</th>\n",
       "      <td>1eddaedc-c687-4e1e-a70c-18101c6862cb</td>\n",
       "      <td>http://g1.globo.com/politica/noticia/2023/04/2...</td>\n",
       "      <td>Comissão dá aval a projeto para suspender decr...</td>\n",
       "      <td>99</td>\n",
       "      <td>2443</td>\n",
       "      <td>[política]</td>\n",
       "      <td>A Comissão de Segurança Pública da Câmara dos ...</td>\n",
       "      <td>Comissão dá aval a projeto para suspender decr...</td>\n",
       "      <td>1.682449e+09</td>\n",
       "    </tr>\n",
       "    <tr>\n",
       "      <th>360</th>\n",
       "      <td>51cb0e38-9928-4158-9fa7-097c369e2d83</td>\n",
       "      <td>http://g1.globo.com/sp/sao-paulo/noticia/2023/...</td>\n",
       "      <td>Thiago Brennand chega à sede da PF em São Paul...</td>\n",
       "      <td>98</td>\n",
       "      <td>3603</td>\n",
       "      <td>[são paulo]</td>\n",
       "      <td>Brennand chega a São Paulo escoltado pela PF\\n...</td>\n",
       "      <td>Thiago Brennand chega à sede da PF em São Paul...</td>\n",
       "      <td>1.682802e+09</td>\n",
       "    </tr>\n",
       "  </tbody>\n",
       "</table>\n",
       "</div>"
      ],
      "text/plain": [
       "                                   newsId  \\\n",
       "12   c840c6a6-626b-419b-996e-73afdee03a29   \n",
       "172  e33d0e6d-aafd-41f4-bef1-b107b76fc673   \n",
       "306  7150e244-a403-4e63-8831-3e9ca99a4afd   \n",
       "336  1eddaedc-c687-4e1e-a70c-18101c6862cb   \n",
       "360  51cb0e38-9928-4158-9fa7-097c369e2d83   \n",
       "\n",
       "                                                   url  \\\n",
       "12   http://g1.globo.com/sp/sao-carlos-regiao/notic...   \n",
       "172  http://g1.globo.com/pr/campos-gerais-sul/notic...   \n",
       "306  http://g1.globo.com/ap/amapa/noticia/2023/04/2...   \n",
       "336  http://g1.globo.com/politica/noticia/2023/04/2...   \n",
       "360  http://g1.globo.com/sp/sao-paulo/noticia/2023/...   \n",
       "\n",
       "                                                 title  titleCharCount  \\\n",
       "12   Polícia Civil prende três suspeitos envolvidos...              98   \n",
       "172  Pedreiro é condenado a 14 anos de prisão por m...             100   \n",
       "306  Covid-19: veja onde Macapá oferta vacinas em 2...              57   \n",
       "336  Comissão dá aval a projeto para suspender decr...              99   \n",
       "360  Thiago Brennand chega à sede da PF em São Paul...              98   \n",
       "\n",
       "     textCharCount       topics  \\\n",
       "12            3139         [sp]   \n",
       "172           1912         [pr]   \n",
       "306           2345         [ap]   \n",
       "336           2443   [política]   \n",
       "360           3603  [são paulo]   \n",
       "\n",
       "                                                  body  \\\n",
       "12   Idosa morre após ser baleada em Vargem Grande ...   \n",
       "172  Pedreiro enfrenta júri popular por morte de co...   \n",
       "306  Vacinação em Macapá\\nPMM/Divulgação\\nNesta sex...   \n",
       "336  A Comissão de Segurança Pública da Câmara dos ...   \n",
       "360  Brennand chega a São Paulo escoltado pela PF\\n...   \n",
       "\n",
       "                                              sentence  publishTimestamp  \n",
       "12   Polícia Civil prende três suspeitos envolvidos...      1.682343e+09  \n",
       "172  Pedreiro é condenado a 14 anos de prisão por m...      1.682453e+09  \n",
       "306  Covid-19: veja onde Macapá oferta vacinas em 2...      1.682641e+09  \n",
       "336  Comissão dá aval a projeto para suspender decr...      1.682449e+09  \n",
       "360  Thiago Brennand chega à sede da PF em São Paul...      1.682802e+09  "
      ]
     },
     "execution_count": 126,
     "metadata": {},
     "output_type": "execute_result"
    }
   ],
   "source": [
    "\n",
    "df[[\n",
    "    \"newsId\", \"title\", \"body\", \n",
    "]].head()#.to_clipboard(sep=',', index=None)"
   ]
  },
  {
   "cell_type": "code",
   "execution_count": 114,
   "metadata": {},
   "outputs": [
    {
     "name": "stdout",
     "output_type": "stream",
     "text": [
      "Paraguaios vão às urnas neste domingo (30) para escolher novo presidente Eleição no Paraguai tem disputa acirrada pela Presidência\n",
      "Os paraguaios vão às urnas neste domingo (30) para escolher o novo presidente do país.\n",
      "As pesquisas de opinião indicam uma disputa apertada entre o candidato governista Santiago Peña, do Partido Colorado, e o oposicionista Efraín Alegre, do Concertación Nacional, de esquerda. \n",
      "A votação é em turno único, e também vai eleger parlamentares e governadores. Dois temas dominaram as discussões na campanha: a corrupção, e a ampliação das relações comerciais com a China.\n",
      "[-0.2875876   0.0356041   0.31462672  0.06252239]\n"
     ]
    }
   ],
   "source": [
    "sample_sentence = df.query(\"newsId == '4159a128-f6c0-44a7-b08f-0a17f099d43f'\")[\"sentence\"].values[0]\n",
    "sample_embedding = encoder.encode(sample_sentence)\n",
    "print (sample_sentence)\n",
    "print (sample_embedding[:4])\n"
   ]
  },
  {
   "cell_type": "markdown",
   "metadata": {},
   "source": [
    "# Preprocessing"
   ]
  },
  {
   "cell_type": "code",
   "execution_count": 25,
   "metadata": {},
   "outputs": [
    {
     "data": {
      "text/plain": [
       "newsId                    object\n",
       "url                       object\n",
       "publishDate       datetime64[us]\n",
       "title                     object\n",
       "titleCharCount             int64\n",
       "textCharCount              int64\n",
       "topics                    object\n",
       "body                      object\n",
       "sentence                  object\n",
       "dtype: object"
      ]
     },
     "execution_count": 25,
     "metadata": {},
     "output_type": "execute_result"
    }
   ],
   "source": [
    "# Sampling\n",
    "max_days = 7\n",
    "df = df[df[\"publishDate\"] >= df[\"publishDate\"].max() + pd.DateOffset(-max_days)]"
   ]
  },
  {
   "cell_type": "code",
   "execution_count": 41,
   "metadata": {},
   "outputs": [],
   "source": [
    "# Dtype conversion\n",
    "df[\"publishTimestamp\"] = df[\"publishDate\"].apply(pd.Timestamp.timestamp)\n",
    "df.drop(columns=[\"publishDate\"], inplace=True)"
   ]
  },
  {
   "cell_type": "code",
   "execution_count": 46,
   "metadata": {},
   "outputs": [
    {
     "name": "stderr",
     "output_type": "stream",
     "text": [
      "/var/folders/pr/2nrw06tn1vb56m13zv7wlrsm0000gn/T/ipykernel_5750/3022238567.py:1: SettingWithCopyWarning: \n",
      "A value is trying to be set on a copy of a slice from a DataFrame.\n",
      "Try using .loc[row_indexer,col_indexer] = value instead\n",
      "\n",
      "See the caveats in the documentation: https://pandas.pydata.org/pandas-docs/stable/user_guide/indexing.html#returning-a-view-versus-a-copy\n",
      "  df[\"topics\"] = df[\"topics\"].apply(lambda x: x.tolist())\n"
     ]
    }
   ],
   "source": [
    "df[\"topics\"] = df[\"topics\"].apply(lambda x: x.tolist())"
   ]
  },
  {
   "cell_type": "code",
   "execution_count": 51,
   "metadata": {},
   "outputs": [
    {
     "data": {
      "text/html": [
       "<div>\n",
       "<style scoped>\n",
       "    .dataframe tbody tr th:only-of-type {\n",
       "        vertical-align: middle;\n",
       "    }\n",
       "\n",
       "    .dataframe tbody tr th {\n",
       "        vertical-align: top;\n",
       "    }\n",
       "\n",
       "    .dataframe thead th {\n",
       "        text-align: right;\n",
       "    }\n",
       "</style>\n",
       "<table border=\"1\" class=\"dataframe\">\n",
       "  <thead>\n",
       "    <tr style=\"text-align: right;\">\n",
       "      <th></th>\n",
       "      <th>newsId</th>\n",
       "      <th>url</th>\n",
       "      <th>title</th>\n",
       "      <th>titleCharCount</th>\n",
       "      <th>textCharCount</th>\n",
       "      <th>topics</th>\n",
       "      <th>body</th>\n",
       "      <th>sentence</th>\n",
       "      <th>publishTimestamp</th>\n",
       "    </tr>\n",
       "  </thead>\n",
       "  <tbody>\n",
       "    <tr>\n",
       "      <th>147774</th>\n",
       "      <td>955f0e20-6820-4ddc-b0fe-9228c3f00bef</td>\n",
       "      <td>http://g1.globo.com/mg/grande-minas/noticia/20...</td>\n",
       "      <td>Homem morre com cinco tiros na cabeça, em Pai ...</td>\n",
       "      <td>51</td>\n",
       "      <td>997</td>\n",
       "      <td>[mg]</td>\n",
       "      <td>Um homem, de 36 anos, morreu a tiros na tarde ...</td>\n",
       "      <td>Homem morre com cinco tiros na cabeça, em Pai ...</td>\n",
       "      <td>1.682356e+09</td>\n",
       "    </tr>\n",
       "    <tr>\n",
       "      <th>147877</th>\n",
       "      <td>16022899-4880-4505-8b46-db26f016bf00</td>\n",
       "      <td>http://g1.globo.com/politica/blog/andreia-sadi...</td>\n",
       "      <td>CPMI dos atos golpistas: oposição vai mirar em...</td>\n",
       "      <td>80</td>\n",
       "      <td>1520</td>\n",
       "      <td>[política]</td>\n",
       "      <td>General Braga Netto e o ministro da Justiça, F...</td>\n",
       "      <td>CPMI dos atos golpistas: oposição vai mirar em...</td>\n",
       "      <td>1.682343e+09</td>\n",
       "    </tr>\n",
       "    <tr>\n",
       "      <th>147992</th>\n",
       "      <td>7f9ad39d-09a1-4764-b3f4-59b9c5f2b6f8</td>\n",
       "      <td>http://g1.globo.com/pe/pernambuco/noticia/2023...</td>\n",
       "      <td>Chuva no Grande Recife deixa ruas alagadas e t...</td>\n",
       "      <td>83</td>\n",
       "      <td>3838</td>\n",
       "      <td>[pe]</td>\n",
       "      <td>Ruas ficam alagadas após chuvas no Recife\\nRua...</td>\n",
       "      <td>Chuva no Grande Recife deixa ruas alagadas e t...</td>\n",
       "      <td>1.682507e+09</td>\n",
       "    </tr>\n",
       "    <tr>\n",
       "      <th>148007</th>\n",
       "      <td>41350c69-0b8a-4f9c-9eac-e6242e6fc0b0</td>\n",
       "      <td>http://g1.globo.com/jornal-nacional/noticia/20...</td>\n",
       "      <td>Venda de carros usados no país passa a ser cin...</td>\n",
       "      <td>107</td>\n",
       "      <td>2517</td>\n",
       "      <td>[jornal-nacional]</td>\n",
       "      <td>Venda de carros usados no país passa a ser cin...</td>\n",
       "      <td>Venda de carros usados no país passa a ser cin...</td>\n",
       "      <td>1.682814e+09</td>\n",
       "    </tr>\n",
       "    <tr>\n",
       "      <th>148054</th>\n",
       "      <td>6ceee695-f2eb-4541-be38-a7782bd4fdcc</td>\n",
       "      <td>http://g1.globo.com/ba/bahia/noticia/2023/04/2...</td>\n",
       "      <td>Covid-19: veja estratégia de vacinação que inc...</td>\n",
       "      <td>116</td>\n",
       "      <td>14240</td>\n",
       "      <td>[bahia]</td>\n",
       "      <td>Vacinação contra Covid-19 segue em Salvador\\nB...</td>\n",
       "      <td>Covid-19: veja estratégia de vacinação que inc...</td>\n",
       "      <td>1.682467e+09</td>\n",
       "    </tr>\n",
       "  </tbody>\n",
       "</table>\n",
       "</div>"
      ],
      "text/plain": [
       "                                      newsId  \\\n",
       "147774  955f0e20-6820-4ddc-b0fe-9228c3f00bef   \n",
       "147877  16022899-4880-4505-8b46-db26f016bf00   \n",
       "147992  7f9ad39d-09a1-4764-b3f4-59b9c5f2b6f8   \n",
       "148007  41350c69-0b8a-4f9c-9eac-e6242e6fc0b0   \n",
       "148054  6ceee695-f2eb-4541-be38-a7782bd4fdcc   \n",
       "\n",
       "                                                      url  \\\n",
       "147774  http://g1.globo.com/mg/grande-minas/noticia/20...   \n",
       "147877  http://g1.globo.com/politica/blog/andreia-sadi...   \n",
       "147992  http://g1.globo.com/pe/pernambuco/noticia/2023...   \n",
       "148007  http://g1.globo.com/jornal-nacional/noticia/20...   \n",
       "148054  http://g1.globo.com/ba/bahia/noticia/2023/04/2...   \n",
       "\n",
       "                                                    title  titleCharCount  \\\n",
       "147774  Homem morre com cinco tiros na cabeça, em Pai ...              51   \n",
       "147877  CPMI dos atos golpistas: oposição vai mirar em...              80   \n",
       "147992  Chuva no Grande Recife deixa ruas alagadas e t...              83   \n",
       "148007  Venda de carros usados no país passa a ser cin...             107   \n",
       "148054  Covid-19: veja estratégia de vacinação que inc...             116   \n",
       "\n",
       "        textCharCount             topics  \\\n",
       "147774            997               [mg]   \n",
       "147877           1520         [política]   \n",
       "147992           3838               [pe]   \n",
       "148007           2517  [jornal-nacional]   \n",
       "148054          14240            [bahia]   \n",
       "\n",
       "                                                     body  \\\n",
       "147774  Um homem, de 36 anos, morreu a tiros na tarde ...   \n",
       "147877  General Braga Netto e o ministro da Justiça, F...   \n",
       "147992  Ruas ficam alagadas após chuvas no Recife\\nRua...   \n",
       "148007  Venda de carros usados no país passa a ser cin...   \n",
       "148054  Vacinação contra Covid-19 segue em Salvador\\nB...   \n",
       "\n",
       "                                                 sentence  publishTimestamp  \n",
       "147774  Homem morre com cinco tiros na cabeça, em Pai ...      1.682356e+09  \n",
       "147877  CPMI dos atos golpistas: oposição vai mirar em...      1.682343e+09  \n",
       "147992  Chuva no Grande Recife deixa ruas alagadas e t...      1.682507e+09  \n",
       "148007  Venda de carros usados no país passa a ser cin...      1.682814e+09  \n",
       "148054  Covid-19: veja estratégia de vacinação que inc...      1.682467e+09  "
      ]
     },
     "execution_count": 51,
     "metadata": {},
     "output_type": "execute_result"
    }
   ],
   "source": [
    "df.tail()"
   ]
  },
  {
   "cell_type": "markdown",
   "metadata": {},
   "source": [
    "# Qdrant Setup"
   ]
  },
  {
   "cell_type": "code",
   "execution_count": 18,
   "metadata": {},
   "outputs": [],
   "source": [
    "client = QdrantClient(path=DATABASE_PATH)"
   ]
  },
  {
   "cell_type": "code",
   "execution_count": 15,
   "metadata": {},
   "outputs": [
    {
     "name": "stderr",
     "output_type": "stream",
     "text": [
      "No sentence-transformers model found with name /Users/joao.guedes/.cache/torch/sentence_transformers/neuralmind_bert-base-portuguese-cased. Creating a new one with MEAN pooling.\n"
     ]
    }
   ],
   "source": [
    "model_name = \"neuralmind/bert-base-portuguese-cased\"\n",
    "collection_name = \"news-articles\"\n",
    "\n",
    "encoder = SentenceTransformer(model_name_or_path=model_name, device='cpu')"
   ]
  },
  {
   "cell_type": "markdown",
   "metadata": {},
   "source": [
    "Checking collections"
   ]
  },
  {
   "cell_type": "code",
   "execution_count": 19,
   "metadata": {},
   "outputs": [
    {
     "data": {
      "text/plain": [
       "CollectionsResponse(collections=[])"
      ]
     },
     "execution_count": 19,
     "metadata": {},
     "output_type": "execute_result"
    }
   ],
   "source": [
    "client.get_collections()"
   ]
  },
  {
   "cell_type": "markdown",
   "metadata": {},
   "source": [
    "Creating a collection"
   ]
  },
  {
   "cell_type": "code",
   "execution_count": 20,
   "metadata": {},
   "outputs": [
    {
     "data": {
      "text/plain": [
       "True"
      ]
     },
     "execution_count": 20,
     "metadata": {},
     "output_type": "execute_result"
    }
   ],
   "source": [
    "from qdrant_client.http.models import Distance, VectorParams\n",
    "\n",
    "client.create_collection(\n",
    "    collection_name=collection_name,\n",
    "    vectors_config=models.VectorParams(\n",
    "        size=encoder.get_sentence_embedding_dimension(),\n",
    "        distance=models.Distance.COSINE,\n",
    "    ),\n",
    ")"
   ]
  },
  {
   "cell_type": "code",
   "execution_count": 21,
   "metadata": {},
   "outputs": [
    {
     "data": {
      "text/plain": [
       "CollectionsResponse(collections=[CollectionDescription(name='news-articles')])"
      ]
     },
     "execution_count": 21,
     "metadata": {},
     "output_type": "execute_result"
    }
   ],
   "source": [
    "client.get_collections()"
   ]
  },
  {
   "cell_type": "markdown",
   "metadata": {},
   "source": [
    "# Defining Vectors"
   ]
  },
  {
   "cell_type": "code",
   "execution_count": 23,
   "metadata": {},
   "outputs": [
    {
     "data": {
      "text/html": [
       "<div>\n",
       "<style scoped>\n",
       "    .dataframe tbody tr th:only-of-type {\n",
       "        vertical-align: middle;\n",
       "    }\n",
       "\n",
       "    .dataframe tbody tr th {\n",
       "        vertical-align: top;\n",
       "    }\n",
       "\n",
       "    .dataframe thead th {\n",
       "        text-align: right;\n",
       "    }\n",
       "</style>\n",
       "<table border=\"1\" class=\"dataframe\">\n",
       "  <thead>\n",
       "    <tr style=\"text-align: right;\">\n",
       "      <th></th>\n",
       "      <th>newsId</th>\n",
       "      <th>url</th>\n",
       "      <th>publishDate</th>\n",
       "      <th>title</th>\n",
       "      <th>titleCharCount</th>\n",
       "      <th>textCharCount</th>\n",
       "      <th>topics</th>\n",
       "      <th>body</th>\n",
       "      <th>sentence</th>\n",
       "    </tr>\n",
       "  </thead>\n",
       "  <tbody>\n",
       "    <tr>\n",
       "      <th>148094</th>\n",
       "      <td>58bc855d-87e3-4e3d-afd0-27c7fae77ac1</td>\n",
       "      <td>http://g1.globo.com/go/goias/noticia/2023/03/2...</td>\n",
       "      <td>2023-03-26 14:40:11</td>\n",
       "      <td>Jovem morre após levar choque ao pular muro de...</td>\n",
       "      <td>86</td>\n",
       "      <td>1678</td>\n",
       "      <td>[go]</td>\n",
       "      <td>Gabriel Feitosa da Silva, de 25 anos, morreu a...</td>\n",
       "      <td>Jovem morre após levar choque ao pular muro de...</td>\n",
       "    </tr>\n",
       "    <tr>\n",
       "      <th>148095</th>\n",
       "      <td>60b204c2-54c0-447b-a751-eda8f32a2bf3</td>\n",
       "      <td>http://g1.globo.com/sc/santa-catarina/noticia/...</td>\n",
       "      <td>2022-06-21 00:18:26</td>\n",
       "      <td>Corregedoria-Geral da Justiça apura conduta de...</td>\n",
       "      <td>104</td>\n",
       "      <td>4453</td>\n",
       "      <td>[sc]</td>\n",
       "      <td>A Corregedoria-Geral da Justiça está investiga...</td>\n",
       "      <td>Corregedoria-Geral da Justiça apura conduta de...</td>\n",
       "    </tr>\n",
       "    <tr>\n",
       "      <th>148096</th>\n",
       "      <td>d7eab297-d17a-4634-ba6e-7699500e78bb</td>\n",
       "      <td>http://g1.globo.com/pe/pernambuco/blog/viver-n...</td>\n",
       "      <td>2022-12-19 17:37:11</td>\n",
       "      <td>\\nEstudo relata 1ª evidência de acasalamento d...</td>\n",
       "      <td>105</td>\n",
       "      <td>4551</td>\n",
       "      <td>[pe]</td>\n",
       "      <td>Registros de marca de cópula em tigres em Noro...</td>\n",
       "      <td>\\nEstudo relata 1ª evidência de acasalamento d...</td>\n",
       "    </tr>\n",
       "    <tr>\n",
       "      <th>148097</th>\n",
       "      <td>132fb4d8-1182-4655-91cf-c809e3700642</td>\n",
       "      <td>http://g1.globo.com/ciencia-e-saude/noticia/a-...</td>\n",
       "      <td>2018-03-23 18:16:02</td>\n",
       "      <td>A trágica história por trás da 'múmia de extra...</td>\n",
       "      <td>76</td>\n",
       "      <td>2971</td>\n",
       "      <td>[mundo]</td>\n",
       "      <td>O esqueleto da múmia Ata tem 13 centímetros, m...</td>\n",
       "      <td>A trágica história por trás da 'múmia de extra...</td>\n",
       "    </tr>\n",
       "    <tr>\n",
       "      <th>148098</th>\n",
       "      <td>9ff4179c-d58c-4040-920b-eb4c7dbd031b</td>\n",
       "      <td>http://g1.globo.com/ciencia/noticia/2023/03/14...</td>\n",
       "      <td>2023-03-14 11:06:08</td>\n",
       "      <td>Sonda da Nasa flagra dunas de areia 'atípicas'...</td>\n",
       "      <td>55</td>\n",
       "      <td>2059</td>\n",
       "      <td>[ciencia]</td>\n",
       "      <td>As dunas de areia circulares vista em uma imag...</td>\n",
       "      <td>Sonda da Nasa flagra dunas de areia 'atípicas'...</td>\n",
       "    </tr>\n",
       "  </tbody>\n",
       "</table>\n",
       "</div>"
      ],
      "text/plain": [
       "                                      newsId  \\\n",
       "148094  58bc855d-87e3-4e3d-afd0-27c7fae77ac1   \n",
       "148095  60b204c2-54c0-447b-a751-eda8f32a2bf3   \n",
       "148096  d7eab297-d17a-4634-ba6e-7699500e78bb   \n",
       "148097  132fb4d8-1182-4655-91cf-c809e3700642   \n",
       "148098  9ff4179c-d58c-4040-920b-eb4c7dbd031b   \n",
       "\n",
       "                                                      url         publishDate  \\\n",
       "148094  http://g1.globo.com/go/goias/noticia/2023/03/2... 2023-03-26 14:40:11   \n",
       "148095  http://g1.globo.com/sc/santa-catarina/noticia/... 2022-06-21 00:18:26   \n",
       "148096  http://g1.globo.com/pe/pernambuco/blog/viver-n... 2022-12-19 17:37:11   \n",
       "148097  http://g1.globo.com/ciencia-e-saude/noticia/a-... 2018-03-23 18:16:02   \n",
       "148098  http://g1.globo.com/ciencia/noticia/2023/03/14... 2023-03-14 11:06:08   \n",
       "\n",
       "                                                    title  titleCharCount  \\\n",
       "148094  Jovem morre após levar choque ao pular muro de...              86   \n",
       "148095  Corregedoria-Geral da Justiça apura conduta de...             104   \n",
       "148096  \\nEstudo relata 1ª evidência de acasalamento d...             105   \n",
       "148097  A trágica história por trás da 'múmia de extra...              76   \n",
       "148098  Sonda da Nasa flagra dunas de areia 'atípicas'...              55   \n",
       "\n",
       "        textCharCount     topics  \\\n",
       "148094           1678       [go]   \n",
       "148095           4453       [sc]   \n",
       "148096           4551       [pe]   \n",
       "148097           2971    [mundo]   \n",
       "148098           2059  [ciencia]   \n",
       "\n",
       "                                                     body  \\\n",
       "148094  Gabriel Feitosa da Silva, de 25 anos, morreu a...   \n",
       "148095  A Corregedoria-Geral da Justiça está investiga...   \n",
       "148096  Registros de marca de cópula em tigres em Noro...   \n",
       "148097  O esqueleto da múmia Ata tem 13 centímetros, m...   \n",
       "148098  As dunas de areia circulares vista em uma imag...   \n",
       "\n",
       "                                                 sentence  \n",
       "148094  Jovem morre após levar choque ao pular muro de...  \n",
       "148095  Corregedoria-Geral da Justiça apura conduta de...  \n",
       "148096  \\nEstudo relata 1ª evidência de acasalamento d...  \n",
       "148097  A trágica história por trás da 'múmia de extra...  \n",
       "148098  Sonda da Nasa flagra dunas de areia 'atípicas'...  "
      ]
     },
     "execution_count": 23,
     "metadata": {},
     "output_type": "execute_result"
    }
   ],
   "source": [
    "df.tail()"
   ]
  },
  {
   "cell_type": "code",
   "execution_count": 117,
   "metadata": {},
   "outputs": [
    {
     "data": {
      "text/plain": [
       "[PointStruct(id='c840c6a6-626b-419b-996e-73afdee03a29', vector=[-0.27530789375305176, -0.10961669683456421, 0.3222742974758148, 0.03172452002763748, 0.24828609824180603, 0.3044049143791199, 0.0015107924118638039, 0.2151155024766922, -0.24580124020576477, -0.23382225632667542, 0.29348456859588623, 0.34965166449546814, -0.029989661648869514, 0.12359942495822906, -0.24013268947601318, -0.03973056375980377, 0.10251688212156296, -0.13129538297653198, 0.011367762461304665, -0.19394224882125854, -0.3198423385620117, 0.14948657155036926, -0.041984427720308304, -0.2876173257827759, -0.5642433166503906, 0.4022168517112732, -0.06133133918046951, -0.07956783473491669, -0.3409377336502075, -0.5598554611206055, -0.07079695165157318, 0.3145569860935211, -0.1660841554403305, 0.3850100636482239, 0.1314176321029663, 0.07979965209960938, 0.20599853992462158, 0.14139355719089508, 0.08481939136981964, 0.16968804597854614, 0.16847702860832214, 0.0034861043095588684, -0.02792542055249214, 0.03136676549911499, 0.027676396071910858, -0.4391198754310608, 0.014159729704260826, -0.007985550910234451, -0.31032800674438477, -0.04584265500307083, -0.21976974606513977, 0.11033320426940918, 0.15295395255088806, 0.3130168914794922, 0.03783227503299713, -0.07822992652654648, 0.19001352787017822, -0.013104332610964775, -0.1611267328262329, -0.34272369742393494, 0.0049969214014709, -0.08954831957817078, 0.03912416473031044, -0.10993252694606781, 0.2906346321105957, -0.10756072402000427, 0.18182532489299774, -0.4322592616081238, 0.08364412188529968, 0.3081118166446686, -0.013028517365455627, 0.171107679605484, 0.28103315830230713, -0.32210612297058105, -0.05965668708086014, 0.5732054710388184, -0.10703909397125244, -0.0502748042345047, -0.05999075993895531, -0.4975007474422455, -0.0762966200709343, -0.25779563188552856, 0.17132024466991425, 0.16435804963111877, -0.37324970960617065, -0.08645360171794891, 0.06363890320062637, -0.3627772331237793, 0.4702114462852478, -0.7560268640518188, 0.3559187650680542, 0.19333624839782715, 0.4551315903663635, 0.36466774344444275, -0.1362839937210083, 0.6441011428833008, 0.15856075286865234, 0.18999643623828888, -0.2943045496940613, -0.14893512427806854, -0.12144813686609268, -0.16646814346313477, 0.31461262702941895, -0.030568936839699745, 0.47703784704208374, 0.016862021759152412, 0.3319123685359955, 0.31948357820510864, -0.2846280038356781, 0.3801608085632324, 0.141291081905365, 0.5419781804084778, 0.26538383960723877, 0.08041471242904663, 0.406869113445282, -0.6291683912277222, -0.21859899163246155, 0.2806430757045746, 0.6891913414001465, -0.327127069234848, -0.20550668239593506, 0.018329940736293793, -0.07009273022413254, 0.2653636932373047, 0.22163519263267517, 0.052426449954509735, -0.17002256214618683, -0.02268272079527378, 0.15286965668201447, -0.07511702179908752, 0.05144679173827171, -0.3982831835746765, -0.05107524245977402, -0.07981928437948227, 0.3192577362060547, -0.1365872621536255, -0.009593581780791283, -0.090423583984375, -0.03769995644688606, 0.14583104848861694, 0.04279583692550659, 0.11454720050096512, -0.026026837527751923, -0.03815024346113205, 0.16188432276248932, -0.18073007464408875, -0.7329550981521606, 0.4278968870639801, -0.16461516916751862, -0.12369365990161896, -0.11916784942150116, 0.2829354405403137, 0.017385903745889664, 0.04310743510723114, -0.06537336111068726, 0.39989572763442993, 0.08572076261043549, -0.10060597211122513, 0.06720784306526184, 0.04633217304944992, -0.10757909715175629, 0.014167385175824165, 0.20011280477046967, -0.370945006608963, 0.0692824274301529, -0.2878299355506897, -0.1837983876466751, -0.16758902370929718, -0.028052395209670067, 0.14000451564788818, -0.10903992503881454, -0.06864777952432632, -0.41046038269996643, -0.06108585000038147, 0.0005105985328555107, 0.29113301634788513, 0.31549549102783203, 0.24383503198623657, 0.2861648201942444, 0.13599252700805664, 0.2857012152671814, -0.39256641268730164, -0.11348680406808853, -0.17939668893814087, 0.05320633202791214, -0.05780624598264694, 0.06796745955944061, -0.5045050382614136, -0.0069342427887022495, -0.13642708957195282, -0.4011823236942291, 0.15271085500717163, -0.18754103779792786, 0.05330941453576088, -0.3289424180984497, -0.1834012120962143, 0.08639024198055267, -0.13184523582458496, -0.033355072140693665, 0.38799023628234863, 0.021437527611851692, 0.038468748331069946, -0.27283158898353577, -0.191575825214386, -0.23826918005943298, -0.07805261015892029, -0.14540523290634155, 0.20334893465042114, -0.18036386370658875, 0.6527845859527588, 0.11734302341938019, 0.441901832818985, 0.889217734336853, -0.2493300437927246, 0.29148221015930176, 0.2699713110923767, -0.1155473068356514, -0.059622589498758316, 0.0004556700587272644, 0.3430928587913513, -0.16540968418121338, 0.34740447998046875, 0.03814946115016937, 0.08193183690309525, 0.08871326595544815, -0.2807815968990326, 0.4258102774620056, 0.4970206618309021, -0.008994154632091522, -0.04169071838259697, -0.592002272605896, -0.577825665473938, -0.26746174693107605, 0.35116541385650635, 0.032724253833293915, 0.21030880510807037, 0.20065471529960632, -0.31366920471191406, -0.134901762008667, -0.03783419355750084, -0.09127141535282135, -0.42546695470809937, -0.056668538600206375, -0.008422663435339928, -0.18941646814346313, -0.0527769960463047, -0.20069405436515808, 0.168953537940979, 0.30695629119873047, -0.22669075429439545, -0.18898960947990417, -0.33973973989486694, 0.219142884016037, 0.21418863534927368, 0.10746625065803528, -0.14865152537822723, 0.00806635431945324, -0.07423294335603714, 0.03039325773715973, -0.47257399559020996, 0.07430168986320496, -0.3327179551124573, -0.14986565709114075, 0.18605071306228638, 0.5743730068206787, 0.20879679918289185, -0.4165481925010681, -0.11694864928722382, -0.1130618155002594, -0.0005792416632175446, -0.48364609479904175, 0.17528578639030457, 0.2977216839790344, -0.04359431192278862, -0.34748217463493347, 0.33352115750312805, -0.0338897705078125, 0.06066150590777397, -0.21348604559898376, 0.363566517829895, 0.3923415541648865, 0.04998645931482315, -0.15162302553653717, -0.11433753371238708, 0.26445817947387695, -0.15065529942512512, 0.3516646921634674, 0.059641849249601364, 0.3974694609642029, -0.23474186658859253, -0.056929655373096466, -0.2928427457809448, -0.3741281032562256, 0.13295185565948486, -0.1630224734544754, -0.1558874249458313, -0.2543204724788666, 0.14374452829360962, 0.20201770961284637, -0.4071495532989502, 0.033936500549316406, 0.47061091661453247, -0.12320603430271149, 0.16339799761772156, 0.18702556192874908, 0.0018386878073215485, 0.024648018181324005, -0.33027973771095276, 0.2987231910228729, -0.2881495952606201, -0.15019741654396057, -0.19255907833576202, -0.031965747475624084, -0.1892579197883606, 0.06164869666099548, 0.08623267710208893, 0.5441254377365112, 0.08565619587898254, -0.34893035888671875, -0.11399506032466888, 0.002489442005753517, 0.2353699654340744, 0.20121683180332184, 0.09449641406536102, -0.029913760721683502, 0.1823998987674713, 0.20171192288398743, -0.2672012448310852, -0.25546857714653015, -0.11906665563583374, -0.42132678627967834, 0.45077967643737793, -0.23628610372543335, -0.5654934644699097, -0.1476726233959198, -0.4262162446975708, -0.1622317135334015, -0.18437448143959045, -0.4134688675403595, -0.09734281897544861, -0.394904762506485, -0.08204599469900131, 0.10059414058923721, -0.04185406118631363, 0.12008234113454819, 0.133664071559906, 0.06542236357927322, -0.04215642064809799, 0.16249355673789978, -0.4696093201637268, 0.04796198755502701, -0.24327702820301056, 0.40216708183288574, 0.03861464560031891, -0.12633010745048523, 0.09952227771282196, -0.20056171715259552, -0.17444643378257751, 0.35577279329299927, -0.11247242987155914, 0.21441808342933655, 0.054901089519262314, -0.05417877435684204, -0.2837703824043274, -0.5144339203834534, -0.06391136348247528, -0.18559163808822632, -0.27844130992889404, -0.16497841477394104, 0.6844073534011841, 0.5521851778030396, 0.2561633884906769, -0.00856059417128563, -0.7208335995674133, 0.0204776581376791, -0.12834590673446655, -0.06611742079257965, -0.18702435493469238, 0.2444601058959961, 0.11409173905849457, 0.24609249830245972, -0.4200771450996399, 0.3305310010910034, -0.09415990114212036, -0.0685080885887146, 0.2871583104133606, -0.19087734818458557, -0.32374709844589233, 0.19040362536907196, 0.16629654169082642, -0.1445826143026352, 0.20302946865558624, 0.045339521020650864, 0.07023374736309052, -0.15785089135169983, -0.15410709381103516, 0.2220345139503479, 0.317732036113739, -0.699053168296814, 0.1556870937347412, -0.2280695140361786, -0.0679655522108078, 0.39840206503868103, -0.2447308450937271, -0.11628344655036926, 0.43235865235328674, 0.07012882083654404, -0.03457244113087654, -0.05289260670542717, 0.00713237002491951, -0.09385566413402557, -0.10623197257518768, 0.5172178745269775, 0.1954476684331894, 0.08468951284885406, 0.3935320973396301, -0.3751099705696106, -0.009417342022061348, 0.13308238983154297, 0.7525408864021301, -0.1809190809726715, -0.34888049960136414, 0.07624033838510513, -1.514510154724121, 0.23662547767162323, -0.16021038591861725, -0.12979888916015625, 0.7853960990905762, -0.18639984726905823, -0.2784687280654907, -0.4593508541584015, 0.06083223223686218, 0.4298604130744934, 0.3262079954147339, 0.19840872287750244, 0.10624334961175919, 0.00701806228607893, 0.025625254958868027, -0.21766017377376556, -0.22151878476142883, 0.5019928216934204, -0.18969328701496124, 0.051834214478731155, -0.001174065750092268, -0.04113062843680382, -0.23957443237304688, -0.14818356931209564, -0.06297585368156433, -0.19280460476875305, -0.26102644205093384, 0.02566678822040558, -0.561853289604187, 0.38011491298675537, -0.0054924669675529, 0.41903167963027954, -0.5689573287963867, 0.01950116828083992, -0.2750338912010193, -0.4932795763015747, -0.5656791925430298, -0.30653059482574463, 0.39544469118118286, -0.25424009561538696, 0.16410543024539948, 0.017772698774933815, -0.5281898975372314, 0.014926962554454803, 0.4442300796508789, 0.0018610134720802307, 0.9199198484420776, -0.5247201919555664, 0.15933452546596527, -0.32283854484558105, 0.4700894355773926, -0.1656188666820526, -0.037865858525037766, 0.006591733545064926, -0.33238089084625244, 0.084592804312706, 0.0048080869019031525, 0.646386981010437, 0.19283217191696167, 0.2255079597234726, -0.02032674103975296, 0.3422946035861969, 0.2275732159614563, -0.13737186789512634, 0.08136104792356491, 0.5858651995658875, 0.012114498764276505, 0.02511722408235073, -0.23876073956489563, 0.011973913758993149, -0.2792559266090393, -0.10765822231769562, 0.1437971144914627, 0.08427944779396057, 0.06488712877035141, -0.02959301322698593, 0.6286687850952148, -0.2107585072517395, 0.4292396306991577, -0.147262841463089, 0.4705004394054413, -0.06594212353229523, -0.1052817702293396, -0.12971805036067963, -0.32335469126701355, -0.2827380299568176, 0.1394699066877365, 0.021824264898896217, -0.503206193447113, 0.11573848873376846, -0.004775838926434517, -0.02047337219119072, -0.11557081341743469, 0.392942875623703, 0.3649517297744751, 0.2020651251077652, -0.2545924186706543, -0.05945541709661484, -0.05590770021080971, 0.23226740956306458, 0.1651572287082672, -0.08939258754253387, -0.6587631702423096, -0.0789591446518898, -0.38539108633995056, 0.02659568376839161, -0.20060259103775024, -0.3461141586303711, 0.18868912756443024, -0.15094837546348572, 0.139923557639122, -0.06430605798959732, 0.153926819562912, -0.3202693462371826, 0.06774096935987473, 0.09373408555984497, 0.6596173048019409, -0.07198049128055573, 0.07845794409513474, -0.39373543858528137, 0.1148548498749733, 0.1139102429151535, 0.07321496307849884, -0.6617062091827393, 0.2567395567893982, -0.2520638108253479, -0.32903075218200684, 0.05684075504541397, -0.0711560845375061, 0.31889379024505615, 0.021925266832113266, 0.2820669710636139, 0.25518932938575745, 0.20306485891342163, -0.15846313536167145, 0.004392279777675867, -0.1588638424873352, -0.28081372380256653, -0.4123193621635437, -0.0787246972322464, 0.3218245804309845, 0.46401262283325195, -0.17609381675720215, 0.08248510211706161, -0.20872420072555542, 0.1193246841430664, 0.03405500203371048, 0.25479966402053833, 0.13421782851219177, -0.11572648584842682, -0.08053301274776459, -0.04618655890226364, -0.0974997729063034, -0.245452418923378, -0.1252521276473999, -0.05509652942419052, 0.20929640531539917, -0.28742799162864685, 0.11711575090885162, -0.07573120296001434, -0.23403051495552063, 0.09554694592952728, -0.4141145944595337, 0.05578162148594856, 0.36344480514526367, 0.08590833842754364, -0.13741770386695862, 0.30410534143447876, 0.27264973521232605, -0.21863335371017456, 0.22781085968017578, 0.08414192497730255, 0.10171769559383392, -0.033873550593853, -0.18133974075317383, 0.1806006133556366, 0.4104277491569519, -0.17030340433120728, -0.4002057909965515, -0.10837949812412262, -0.4107227325439453, -0.22821715474128723, 0.14528119564056396, 0.034682366997003555, -0.12819477915763855, 0.06884434819221497, 0.06408888101577759, 0.13766048848628998, -0.3879741430282593, -0.17783357203006744, -0.3532719016075134, -0.35761985182762146, 0.04204338788986206, -0.1816132366657257, -0.679789662361145, -0.03468022495508194, -0.04337975010275841, 0.2969600558280945, -0.2938826084136963, 0.38211965560913086, -0.48158466815948486, 0.20841814577579498, 0.06238245218992233, -0.054186634719371796, 0.2736494541168213, 0.00705409562215209, -0.17630448937416077, -0.11430858075618744, 0.34379488229751587, 0.18178269267082214, -0.2971231937408447, 0.13305017352104187, 0.32108408212661743, -0.19929274916648865, -0.3568088710308075, 0.17652109265327454, -0.27934151887893677, -0.1153290793299675, 0.6391261219978333, -0.08279521763324738, 0.017465002834796906, 0.18480485677719116, 0.09867259860038757, -0.31344830989837646, 0.2999032437801361, -0.5601238012313843, -0.06187096983194351, 0.19345161318778992, -0.2632867693901062, 0.0006004036404192448, -0.32364287972450256, -0.023971179500222206, 0.302276074886322, 0.5886167287826538, 0.03747189790010452, -0.15329799056053162, 1.2187082767486572, -0.3584747910499573, 0.12408547103404999, 0.14899787306785583, -0.30397501587867737, -0.3411388397216797, 0.470699667930603, -0.24177439510822296, -0.1839713454246521, -0.18377453088760376, -0.0418713353574276, -0.4349764585494995, -0.4491029977798462, 0.3252806067466736, 0.21457037329673767, 0.11059409379959106, 0.3593277335166931, 0.05291355773806572, -0.04294038936495781, -0.37337034940719604, 0.06555991619825363, -0.2702735364437103, 0.22633005678653717, 0.22348162531852722, 0.07876233756542206, 0.3046944737434387, -0.0899747982621193, 0.1385047435760498, -0.017335884273052216, -0.7216733694076538, -0.13360460102558136, -0.07264374941587448, -0.30903053283691406, 0.06731921434402466, -0.22444596886634827, -0.20591780543327332, 0.26135122776031494, 0.5859692692756653, -0.17553165555000305, 0.3019767999649048, -0.37799614667892456, -0.31818485260009766, 0.22155213356018066, 0.05142015218734741, -0.03687864914536476, -0.5351296663284302, -0.3887784481048584, 0.21735060214996338, -0.5476968288421631, -0.2222728729248047, 0.027730919420719147, 0.034056805074214935, 0.10828224569559097, -0.3455926775932312, 0.04627901315689087, 0.016070544719696045, -0.29203009605407715, -0.3703160881996155, -0.3317788243293762, -0.3004037141799927, 0.1472444236278534, 0.23334017395973206, -0.2840625047683716, -0.083715058863163, 0.09458660334348679, -0.28918251395225525, 0.09827442467212677, -0.23472397029399872, 0.014731028117239475, 0.11852407455444336, -0.2211950719356537, 0.19843226671218872, 1.538417100906372, -0.2430247813463211, 0.1363370716571808, 0.0743296667933464, -0.1848791092634201, 0.05143488943576813, 0.26438021659851074, 0.07116417586803436, 0.06347432732582092, -0.27759993076324463, -0.19548362493515015, -0.23034773766994476, 0.4361475110054016, -0.014048012904822826, -0.12125910818576813, -0.014701079577207565, 0.12751205265522003, 0.014724340289831161, -0.24549181759357452, -0.08127959072589874, -0.2829192876815796, -0.128534734249115, 0.4333307147026062, 0.3949328064918518, 0.11543280631303787, -0.486039400100708, -0.10843606293201447, 0.0983184427022934, -0.08983837068080902, -0.5485508441925049, -0.35802367329597473, 0.3403540849685669, -0.38174259662628174, 0.2036447674036026, 0.15029609203338623, -0.021536432206630707, -0.24185892939567566], payload={'url': 'http://g1.globo.com/sp/sao-carlos-regiao/noticia/2023/04/24/policia-civil-prende-tres-suspeitos-envolvidos-em-tiroteio-que-matou-idosa-em-vargem-grande-do-sul.ghtml', 'title': 'Polícia Civil prende três suspeitos envolvidos em tiroteio que matou idosa em Vargem Grande do Sul', 'titleCharCount': 98, 'textCharCount': 3139, 'topics': ['sp'], 'body': 'Idosa morre após ser baleada em Vargem Grande do Sul\\nReprodução\\nTrês homens suspeitos de envolvimento no tiroteio que matou uma idosa foram presos em Vargem Grande do Sul (SP) na manhã desta segunda-feira (24). O crime aconteceu no dia 13 deste mês e deixou três pessoas feridas.\\nUm homem de 54 anos já havia sido preso pela Polícia Militar suspeito de dirigir o carro usado na ação. Na semana passada, a Polícia Civil também apreendeu um adolescente que está internado na Fundação Casa.\\nCompartilhe no WhatsApp\\nCompartilhe no Telegram\\nSegundo o delegado Eduardo Hiago Dutra de Oliveira, os dois jovens de 18 anos e um rapaz de 25 detidos nesta manhã já estavam com prisão temporária decretada pela Justiça. \\n\"Eles foram ouvidos hoje após a captura, mas permaneceram em silêncio. O motivo do crime foi vingança\", disse o delegado ao g1. Uma das vítimas baleadas teria se envolvido em caso de lesão corporal com uso de faca, no ano passado, contra um dos envolvidos no tiroteio.\\nDe acordo com a Polícia Civil, na casa onde os três suspeitos foram presos foi encontrada uma grande quantidade de drogas.  Além dos crimes de homicídio, os três homens vão responder também por tráfico e associação para o tráfico de drogas.\\nO trio foi encaminhado para a cadeia de São João da Boa Vista onde vai aguardar pela audiência de custódia.\\nLEIA TAMBÉM:\\nTiroteio mata idosa em Vargem Grande do Sul e deixa três feridos\\nSuposta vingança pode ter motivado tiroteio que matou idosa em Vargem Grande do Sul\\nSegundo o delegado, outras duas pessoas que escondiam os criminosos foram autuadas por crime de favorecimento pessoal.\\nO delegado disse ainda que, no curso das investigações, a equipe de Polícia Judiciária de Vargem Grande do Sul conseguiu localizar na semana passada o veículo utilizado para a prática do crime. \\nO carro estava escondido em uma propriedade rural de São João da Boa Vista (SP). Um homem também foi autuado por favorecimento pessoal.\\nO crime\\nAngelina Almeida Maria, de 66 anos, morreu baleada em Vargem Grande do Sul (SP)\\nArquivo pessoal\\nO tiroteio há 11 dias matou Angelina Almeida Maria, de 66 anos, e deixou três feridos. Os jovens de 16, 23 e 24 anos foram socorridos para o Hospital de Caridade e tiveram alta um dia após o crime.\\nTestemunhas contaram à Polícia Militar que uma Saveiro branca, ocupada por motorista, passageiro e mais três pessoas na caçamba, passou atirando contra os moradores na Rua Francisco Alvares Florence na Companhia Habitacional Regional (Cohab) 6.\\nSegundo o delegado, a investigação apurou que o veículo já tinha passado duas vezes pelo local e na terceira os suspeitos desceram atirando contra as vítimas que estavam em frente de casa.\\nAinda de acordo com a polícia, as vítimas correram para dentro da residência, mas os suspeitos conseguiram abrir o portão e atiraram várias vezes.\\nA idosa foi atingida no rosto e não resistiu. Os outros três jovens foram baleados nos membros inferiores. O homem preso em casa pela PM após o crime negou participação, mas foi reconhecido pelas vítimas.\\nVÍDEOS: Reveja as reportagens dos telejornais da EPTV\\nVeja mais notícias da região no g1 São Carlos e Araraquara', 'publishTimestamp': 1682343473.0}),\n",
       " PointStruct(id='e33d0e6d-aafd-41f4-bef1-b107b76fc673', vector=[-0.18011894822120667, -0.17407123744487762, 0.4078513979911804, -0.004340055864304304, 0.18475328385829926, 0.41767722368240356, 0.09080829471349716, 0.16799966990947723, -0.07057136297225952, -0.22837895154953003, 0.1407455950975418, 0.23296144604682922, -0.17052055895328522, 0.17160014808177948, -0.2236316204071045, -0.0626920685172081, 0.1901705116033554, -0.021720396354794502, 0.028599677607417107, -0.06961678713560104, -0.3127405345439911, 0.254751056432724, 0.04172641038894653, -0.20963367819786072, -0.4491150677204132, 0.23186464607715607, -0.2962920367717743, -0.04573540389537811, -0.43958550691604614, -0.4734819233417511, -0.1069168895483017, 0.2764608561992645, -0.1413201242685318, 0.28747203946113586, 0.07583250850439072, 0.0897216647863388, 0.23827208578586578, 0.1311333328485489, -0.10487394779920578, 0.20758482813835144, 0.12328360974788666, 0.03208499029278755, -0.055323079228401184, 0.021694468334317207, 0.045577533543109894, -0.48883089423179626, -0.012091432698071003, 0.07916044443845749, -0.30798783898353577, 0.03285074234008789, -0.09190087020397186, -0.007486688904464245, 0.11956994980573654, 0.18095020949840546, -0.03941107168793678, -0.0016470488626509905, 0.32695725560188293, -0.014643914066255093, -0.17800107598304749, -0.33644160628318787, 0.009082785807549953, -0.025246895849704742, 0.03631974384188652, -0.12451139092445374, 0.11799179762601852, -0.03392372652888298, 0.1513211876153946, -0.39768439531326294, 0.1317346692085266, 0.35917598009109497, -0.06008487567305565, 0.07364866137504578, 0.23372897505760193, -0.28639212250709534, -0.14733773469924927, 0.46307283639907837, -0.05275879427790642, -0.10179442167282104, -0.007762603927403688, -0.37543052434921265, -0.07057938724756241, -0.1915580928325653, -0.04739467054605484, 0.16396060585975647, -0.2526194453239441, 0.0039543709717690945, -0.09062650799751282, -0.24624893069267273, 0.45310133695602417, -0.7867254614830017, 0.38712647557258606, 0.224899023771286, 0.28578710556030273, 0.25483980774879456, -0.11269837617874146, 0.5427992343902588, -0.008175572380423546, 0.05013011768460274, -0.1789563000202179, -0.12218784540891647, -0.06611733138561249, -0.11855807900428772, 0.32145893573760986, 0.00023016273917164654, 0.4218602776527405, 0.026273714378476143, 0.24558013677597046, 0.3012704849243164, -0.2669784724712372, 0.32354238629341125, 0.056702181696891785, 0.5348520278930664, 0.1300557553768158, 0.0930556207895279, 0.3442152440547943, -0.46610328555107117, -0.14219199120998383, 0.36336958408355713, 0.5179212093353271, -0.3546622097492218, -0.1194353699684143, 0.015795014798641205, -0.14799931645393372, 0.12268262356519699, 0.23489786684513092, -0.1190773993730545, -0.07838153094053268, -0.02161819487810135, 0.24670030176639557, -0.10178468376398087, 0.1316094994544983, -0.40763089060783386, -0.1159980520606041, -0.0013210459146648645, 0.2504183053970337, -0.057645611464977264, -0.05914914235472679, -0.019802985712885857, 0.04175075516104698, 0.3642880320549011, 0.0005971558857709169, 0.10157212615013123, 0.013398168608546257, -0.049191541969776154, 0.2674575448036194, -0.15230852365493774, -0.8706733584403992, 0.4480215013027191, -0.18285426497459412, -0.2145196944475174, -0.04481324180960655, 0.2073899507522583, 0.028410226106643677, 0.2541970908641815, -0.025196805596351624, 0.43752914667129517, 0.13538555800914764, -0.13691158592700958, 0.07004710286855698, 0.061786506325006485, -0.2586931884288788, 0.018560685217380524, -0.05361073464155197, -0.22249700129032135, 0.020137403160333633, -0.26700326800346375, -0.16373325884342194, -0.17430046200752258, -0.04384279623627663, 0.18953102827072144, 0.05307554826140404, 0.064317986369133, -0.41466981172561646, 0.03848222270607948, -0.06732851266860962, 0.3137284219264984, 0.3624318242073059, 0.1931380331516266, 0.35141247510910034, -0.04064951092004776, 0.0730249434709549, -0.2546343505382538, -0.1959044486284256, -0.18936215341091156, 0.046795763075351715, -0.012714622542262077, -0.006964800879359245, -0.3418434262275696, -0.015952179208397865, -0.02666311152279377, -0.2982342541217804, 0.12821856141090393, -0.2033275067806244, -0.06574573367834091, -0.34198296070098877, -0.12428092211484909, 0.04603458195924759, -0.12844686210155487, 0.03549397364258766, 0.4409252107143402, -0.013567410409450531, 0.15909144282341003, -0.15126271545886993, -0.19487129151821136, -0.14326173067092896, -0.020639220252633095, -0.0764864832162857, 0.26176631450653076, -0.18347661197185516, 0.685884416103363, 0.05305564031004906, 0.3426782786846161, 0.7804830074310303, -0.12518145143985748, 0.30092114210128784, 0.3311085104942322, -0.07552840560674667, -0.11106839030981064, -0.0035317707806825638, 0.43028759956359863, -0.03423161432147026, 0.3756794035434723, -0.04841266945004463, 0.10449181497097015, 0.08454826474189758, -0.2324059009552002, 0.4037577211856842, 0.3841162323951721, -0.11493978649377823, 0.002551270881667733, -0.5032729506492615, -0.5635761618614197, -0.2307298183441162, 0.42441752552986145, 0.0039122141897678375, 0.15639707446098328, 0.1309538334608078, -0.27282482385635376, -0.27426981925964355, -0.13128232955932617, -0.06696520745754242, -0.29526546597480774, 0.08187612146139145, 0.010207867249846458, -0.10903889685869217, -0.025575609877705574, -0.19049590826034546, 0.2328682690858841, 0.30630600452423096, -0.19230829179286957, -0.15645208954811096, -0.41814982891082764, 0.16469739377498627, 0.0735008493065834, 0.18820016086101532, -0.20881837606430054, -0.12605665624141693, -0.08334337919950485, 0.07486104220151901, -0.5899029970169067, 0.02530781924724579, -0.1787511706352234, -0.16853709518909454, 0.24605265259742737, 0.543605387210846, 0.2290722131729126, -0.35336723923683167, -0.15472562611103058, 0.004730517044663429, -0.07854913920164108, -0.29607006907463074, 0.12933452427387238, 0.2112826108932495, -0.05378889665007591, -0.22718298435211182, 0.2678733468055725, -0.05932366102933884, 0.06278228014707565, 0.06045382097363472, 0.32381942868232727, 0.21442216634750366, -0.009134932421147823, -0.17710039019584656, -0.07329411059617996, 0.1225564256310463, -0.149957537651062, 0.32768547534942627, -0.009198436513543129, 0.3889356851577759, -0.27688729763031006, -0.08916044980287552, -0.35913315415382385, -0.2773696780204773, 0.054868292063474655, -0.1340074986219406, -0.11838171631097794, -0.2606838047504425, 0.10197471082210541, 0.2514883875846863, -0.38202279806137085, -0.01952940970659256, 0.24088400602340698, -0.2843461036682129, 0.12521465122699738, 0.24000829458236694, 0.15427488088607788, -0.004886245355010033, -0.3816227316856384, 0.1680830717086792, -0.30727317929267883, -0.1587378978729248, 0.0655650645494461, -0.015905998647212982, -0.2377280443906784, 0.05507468804717064, 0.14430038630962372, 0.4533439576625824, 0.004448000807315111, -0.35116177797317505, 0.005617031827569008, 0.08625136315822601, 0.1142592653632164, 0.033206939697265625, 0.0053141615353524685, -0.02434668317437172, 0.002614275086671114, 0.14875124394893646, -0.19841836392879486, -0.1983352154493332, -0.052257221192121506, -0.4755968749523163, 0.47071677446365356, -0.1565396636724472, -0.6389614939689636, -0.1342235803604126, -0.34062448143959045, -0.16387680172920227, -0.1778949350118637, -0.3931344747543335, -0.06810244917869568, -0.3634304702281952, -0.13972947001457214, 0.18031956255435944, -0.1149667426943779, 0.26882386207580566, 0.09200626611709595, -0.02672537788748741, 0.018331874161958694, 0.1876285970211029, -0.4802907109260559, 0.05099049583077431, -0.12967538833618164, 0.3599768877029419, -0.11798810958862305, -0.14348424971103668, 0.08424525707960129, -0.2082785815000534, -0.25350695848464966, 0.2781165838241577, -0.15198399126529694, 0.1812073141336441, -0.02539161778986454, -0.10935083776712418, -0.2275466024875641, -0.3737378418445587, -0.01152307353913784, -0.22284287214279175, -0.3959774971008301, -0.17568233609199524, 0.5004188418388367, 0.4315800070762634, 0.2197195589542389, 0.03127465397119522, -0.5743970274925232, 0.03518053889274597, -0.016720613464713097, -0.20903028547763824, -0.1833806335926056, 0.17860056459903717, 0.1074829250574112, 0.2798154652118683, -0.45261824131011963, 0.4017521142959595, -0.0779029056429863, 0.018859464675188065, 0.22697725892066956, -0.18222276866436005, -0.2821020185947418, 0.23879539966583252, 0.1983453929424286, -0.09141289442777634, 0.16547861695289612, 0.02157936617732048, 0.13587543368339539, -0.0795210674405098, -0.20313383638858795, 0.28415462374687195, 0.07451993972063065, -0.7580887079238892, 0.17379489541053772, -0.1731572151184082, -0.17284360527992249, 0.40038469433784485, -0.30519789457321167, -0.1537969559431076, 0.3084012567996979, 0.12275363504886627, 0.03474542498588562, -0.0622282549738884, -0.03964067995548248, -0.026410097256302834, -0.20835453271865845, 0.48063573241233826, 0.15068872272968292, 0.07945350557565689, 0.3307906687259674, -0.2561798095703125, -0.03236589953303337, 0.0937998816370964, 0.7261831760406494, -0.05464695766568184, -0.3500269651412964, 0.05352415144443512, -1.6300420761108398, 0.2156183123588562, -0.19722998142242432, -0.00850955955684185, 0.8056547045707703, 0.0033872462809085846, -0.16550078988075256, -0.46008482575416565, 0.15459983050823212, 0.48256152868270874, 0.14820130169391632, 0.1710631400346756, -0.010451903566718102, -0.07324232161045074, 0.05498486012220383, -0.38449937105178833, -0.16914482414722443, 0.5524019598960876, -0.09169881790876389, -0.042744264006614685, 0.10779675096273422, -0.0028724062722176313, -0.17740240693092346, -0.08940856158733368, -0.037521976977586746, -0.1689985990524292, -0.18173320591449738, 0.003188265487551689, -0.6306276321411133, 0.3838426470756531, 0.1898140162229538, 0.2958719730377197, -0.4381445646286011, 0.12580972909927368, -0.24172666668891907, -0.3370048403739929, -0.4121816158294678, -0.17568226158618927, 0.3938905894756317, -0.21287046372890472, 0.12992455065250397, 0.08537804335355759, -0.45930835604667664, 0.029427561908960342, 0.3720289468765259, 0.09012193232774734, 0.8463555574417114, -0.3974609971046448, 0.12193676084280014, -0.2581970989704132, 0.4068346917629242, -0.11146633327007294, 0.0026817023754119873, 0.01688816398382187, -0.2377486228942871, 0.05483466386795044, -0.11738794296979904, 0.651631236076355, 0.18434670567512512, 0.07624593377113342, 0.029575906693935394, 0.24034853279590607, 0.23981545865535736, -0.03682165965437889, 0.010052017867565155, 0.608351469039917, 0.027667181566357613, 0.17583903670310974, -0.2742989659309387, 0.030997350811958313, -0.2886422276496887, -0.04735615476965904, 0.04630699381232262, 0.1177714616060257, -0.09629206359386444, -0.20248857140541077, 0.6004391312599182, -0.16498097777366638, 0.4043835699558258, -0.07468517869710922, 0.388202041387558, -0.04962153360247612, -0.13652728497982025, -0.07607051730155945, -0.16501376032829285, -0.2658650875091553, 0.13176678121089935, 0.02453368715941906, -0.541337788105011, 0.15409640967845917, -0.012137018144130707, -0.03942755609750748, -0.09240800142288208, 0.30149948596954346, 0.269535630941391, 0.21269570291042328, -0.17788942158222198, -0.11002667993307114, -0.15741455554962158, 0.3095092475414276, 0.08018319308757782, -0.11919032037258148, -0.6187154054641724, -0.21893413364887238, -0.347091406583786, 0.04738736152648926, -0.1977766752243042, -0.43806400895118713, 0.10879670083522797, -0.07550780475139618, 0.18728671967983246, 0.02009432762861252, -0.04139314591884613, -0.2800792157649994, 0.07659471780061722, 0.11782568693161011, 0.5050151348114014, -0.01763995736837387, 0.08978434652090073, -0.2526969909667969, 0.0336175262928009, 0.07259176671504974, 0.18535295128822327, -0.5420496463775635, 0.23684823513031006, -0.227554589509964, -0.2409975379705429, 0.04337022453546524, -0.04385632276535034, 0.2576760947704315, 0.013992764055728912, 0.20113669335842133, 0.24869294464588165, 0.16111302375793457, -0.1952551156282425, -0.04158693179488182, -0.059886641800403595, -0.2983103394508362, -0.3483584523200989, -0.028417333960533142, 0.2712893486022949, 0.35002651810646057, -0.23863424360752106, -0.0032483283430337906, -0.068849116563797, 0.07913706451654434, 0.09788378328084946, 0.1432037055492401, 0.23060256242752075, -0.10994399338960648, -0.012685004621744156, -0.08066540211439133, -0.10397593677043915, -0.18793748319149017, -0.1450331062078476, -0.02933402732014656, 0.23295104503631592, -0.1566363275051117, 0.08600104600191116, -0.06945817917585373, -0.11494556814432144, 0.05670000985264778, -0.40214431285858154, 0.2033536434173584, 0.376800000667572, 0.03897365182638168, -0.08906438946723938, 0.292879581451416, 0.19466379284858704, -0.05796395614743233, 0.10207277536392212, 0.007857623510062695, 0.1370922327041626, 0.16936661303043365, -0.10420211404561996, 0.19410228729248047, 0.26794499158859253, -0.05683889240026474, -0.4862199127674103, -0.19057323038578033, -0.32001858949661255, -0.35127902030944824, 0.1413062959909439, 0.012560637667775154, -0.010566276498138905, 0.03982854634523392, 0.19721370935440063, 0.16627192497253418, -0.31639137864112854, -0.22687241435050964, -0.38535651564598083, -0.390871524810791, -0.05363825336098671, -0.2368466854095459, -0.7320447564125061, 0.048357799649238586, 0.04525469243526459, 0.24304929375648499, -0.3424568474292755, 0.4546605050563812, -0.42759838700294495, 0.1623043566942215, -0.07709740102291107, -0.17529621720314026, 0.17987357079982758, 0.1230391412973404, -0.22999057173728943, -0.07065897434949875, 0.4373915493488312, 0.28463587164878845, -0.25508421659469604, 0.07765156775712967, 0.3862540125846863, -0.05940558761358261, -0.389892578125, 0.11892584711313248, -0.25901415944099426, 0.008015574887394905, 0.6202253103256226, 0.07748062163591385, -0.12696048617362976, 0.1294689178466797, 0.1305333375930786, -0.24869389832019806, 0.2097291499376297, -0.43810829520225525, -0.057423900812864304, 0.23660115897655487, -0.18777592480182648, -0.09430699795484543, -0.33217987418174744, -0.011580804362893105, 0.3118305504322052, 0.6203640699386597, -0.07455278187990189, -0.13939054310321808, 1.0213565826416016, -0.22173869609832764, 0.20972611010074615, 0.11432798206806183, -0.22038891911506653, -0.2529779076576233, 0.4553578495979309, -0.19425317645072937, -0.1211233139038086, -0.32250556349754333, 0.13487696647644043, -0.42490077018737793, -0.36539188027381897, 0.3353247046470642, 0.24973441660404205, 0.21760191023349762, 0.4072551727294922, 0.2233923226594925, -0.01783539541065693, -0.3635997176170349, 0.04325839504599571, -0.2779219150543213, 0.21703612804412842, 0.24294839799404144, -0.060891587287187576, 0.2769545614719391, -0.15657782554626465, 0.05825361981987953, -0.022199435159564018, -0.623763382434845, -0.16473761200904846, -0.14563435316085815, -0.2587527632713318, 0.11707986891269684, -0.11581648141145706, 0.0027277208864688873, 0.12482346594333649, 0.5255153179168701, -0.037136197090148926, 0.3361878991127014, -0.3691302239894867, -0.29759079217910767, 0.1729624718427658, -0.030413594096899033, -0.07013209909200668, -0.3979853689670563, -0.3324640691280365, 0.02444256655871868, -0.572175920009613, -0.08753761649131775, 0.04110970348119736, 0.1292968988418579, 0.14125238358974457, -0.2927880585193634, -0.02074900083243847, -0.06209683418273926, -0.1293858289718628, -0.3707130253314972, -0.2979544401168823, -0.3499656319618225, 0.014477390795946121, 0.24546700716018677, -0.2549988627433777, -0.04098893329501152, 0.12415365129709244, -0.16483844816684723, 0.038893744349479675, -0.11069107055664062, -0.00622030533850193, 0.15731461346149445, -0.2623678147792816, 0.21600563824176788, 1.4295240640640259, -0.29596078395843506, 0.166121706366539, 0.012768205255270004, -0.08666250854730606, 0.002158845541998744, 0.18040506541728973, 0.022667797282338142, -0.06499665975570679, -0.3346295654773712, -0.16588932275772095, -0.25669920444488525, 0.4729612171649933, -0.10430198162794113, -0.13095198571681976, -0.011579075828194618, 0.17578862607479095, -0.11566821485757828, -0.28421998023986816, -0.0985163077712059, -0.16705678403377533, -0.17703720927238464, 0.2437812238931656, 0.3007749617099762, 0.1939501315355301, -0.44623056054115295, -0.0343695729970932, 0.04194936901330948, -0.06987398117780685, -0.5681132674217224, -0.3677353262901306, 0.4107134938240051, -0.37674590945243835, 0.2229006290435791, 0.17473609745502472, -0.11809352040290833, -0.2038583755493164], payload={'url': 'http://g1.globo.com/pr/campos-gerais-sul/noticia/2023/04/25/pedreiro-e-condenado-a-14-anos-de-prisao-por-matar-corretor-de-imoveis-em-condominio-de-ponta-grossa.ghtml', 'title': 'Pedreiro é condenado a 14 anos de prisão por matar corretor de imóveis em condomínio de Ponta Grossa', 'titleCharCount': 100, 'textCharCount': 1912, 'topics': ['pr'], 'body': 'Pedreiro enfrenta júri popular por morte de corretor de imóveis em Ponta Grossa\\nUm pedreiro foi condenado a 14 anos de prisão por matar a tiros um corretor de imóveis dentro de um condomínio de Ponta Grossa, nos Campos Gerais do Paraná. O júri popular ocorreu nesta terça-feira (25). \\nDejaime Aparecido Martins foi considerado culpado por homicídio qualificado, por motivo torpe e uso de recurso que dificultou a defesa da vítima. \\nEle também foi condenado a três anos de prisão por morte irregular de arma de fogo de uso restrito.\\nO caso aconteceu em novembro de 2019, no bairro Boa Vista. Diego Militão Ramo, de 20 anos, foi morto a tiros enquanto trabalhava e teve o corpo encontrado dentro da casa modelo do condomínio, à época em construção. \\nCrime aconteceu em condomínio que está em construção no bairro Boa Vista\\nReprodução/RPC Ponta Grossa\\nDe acordo com a denúncia,  o pedreiro cometeu o crime por ciúmes por acreditar que a vítima mantinha um relacionamento extraconjugal com a namorada dele. \\nApesar da sentença determina cumprimento em regime fechado, Dejaime vai poder recorrer em liberdade por já ter respondido ao processo na mesma condição. \\nConforme o juiz Luiz Carlos Fortes Bittencourt, não há base para pedido de prisão preventiva contra ele.\\nEm nota, o advogado de defesa Gustavo Madureira afirmou que a parte recorreu e pediu um novo julgamento \"por entender que a decisão dos jurados foi manifestamente contraria a prova dos autos\".\\nLeia também:\\nProcesso: Justiça aceita denúncia, e médico vira réu por homicídio por acidente na BR-153 que matou homem que viajava para conhecer filha recém-nascida\\nLuto: Jovem morto baleado durante assalto em Ponta Grossa tinha sonho de tirar CNH e se casar: \\'Dor sem fim\\', desabafa mãe\\nInvestigação: Adolescente é apreendido suspeito de matar apicultor em Arapoti\\nVÍDEOS: Mais assistidos do g1 PR\\n \\nVeja mais notícias da região em g1 Campos Gerais e Sul.', 'publishTimestamp': 1682452914.0}),\n",
       " PointStruct(id='7150e244-a403-4e63-8831-3e9ca99a4afd', vector=[-0.2777242660522461, 0.014535928145051003, 0.6949722766876221, 0.004030898213386536, 0.28835344314575195, 0.009050678461790085, 0.15643654763698578, 0.05964710935950279, -0.013256339356303215, -0.3052673041820526, 0.22809550166130066, 0.05879329890012741, -0.1455967128276825, 0.2704583704471588, -0.49653947353363037, -0.2085871547460556, -0.0673295184969902, -0.04930528998374939, 0.06427256762981415, -0.1670282781124115, -0.14445659518241882, 0.08875143527984619, -0.0444505512714386, -0.507151186466217, -0.2667210102081299, 0.46451321244239807, -0.18851223587989807, -0.04210752621293068, -0.08120650053024292, -0.2897365689277649, 0.0020688995718955994, 0.283197283744812, -0.10280187427997589, 0.2316022515296936, 0.16526243090629578, -0.0010643042623996735, 0.10772844403982162, -0.08860775828361511, 0.012162646278738976, 0.13980211317539215, 0.12185823917388916, 0.06136734411120415, 0.04869358241558075, -0.1359352022409439, 0.10745829343795776, -0.30614203214645386, 0.10043565928936005, 0.0902632474899292, -0.3601967692375183, -0.3462067246437073, 0.03445357829332352, -0.02397688664495945, 0.3832949697971344, 0.5280547142028809, -0.04310556873679161, -0.256314754486084, 0.31383854150772095, 0.040260955691337585, 0.07227994501590729, -0.41666102409362793, -0.07796123623847961, 0.06338805705308914, 0.15951591730117798, -0.009552705101668835, 0.04997866600751877, 0.16098666191101074, 0.22616425156593323, -0.524858295917511, 0.14827373623847961, 0.4186469316482544, 0.13913172483444214, 0.04871663451194763, 0.31394004821777344, -0.30081915855407715, -0.05913831293582916, 0.6201837062835693, -0.012999358586966991, -0.1986207365989685, -0.301656037569046, -0.543502926826477, 0.16368368268013, -0.07991673797369003, -0.22257718443870544, 0.21726179122924805, -0.39021041989326477, 0.12234875559806824, 0.003628171980381012, -0.2512066960334778, 0.44232526421546936, -0.7719138860702515, 0.11028517782688141, 0.1790352463722229, 0.20139437913894653, 0.07846527546644211, -0.29359179735183716, 0.645250678062439, 0.07483811676502228, -0.09402062743902206, -0.07319176197052002, -0.15325269103050232, -0.01773521676659584, -0.3852630853652954, 0.5873230695724487, -0.0074838376604020596, 0.46041345596313477, 0.058944493532180786, 0.36179882287979126, 0.3640629053115845, -0.29832392930984497, 0.4936286211013794, 0.13570478558540344, 0.23695674538612366, 0.11170521378517151, -0.02295934036374092, 0.4358569383621216, -0.46195560693740845, -0.0589190348982811, 0.3094364404678345, 0.7359893321990967, -0.30406224727630615, -0.06997006386518478, 0.15803514420986176, -0.13662858307361603, -0.07065357267856598, 0.10932406783103943, -0.08255422860383987, 0.06476902961730957, -0.025912145152688026, 0.07639333605766296, -0.11709155142307281, 0.12181052565574646, -0.2543623745441437, -0.003986102528870106, 0.15124614536762238, 0.3958812355995178, -0.0751708447933197, 0.17058536410331726, -0.028425686061382294, 0.06540567427873611, 0.08509290218353271, 0.1418091356754303, 0.028554826974868774, -0.04597955197095871, -0.06128498166799545, 0.22721077501773834, -0.14703789353370667, -0.5516560077667236, 0.276015967130661, -0.4909418821334839, -0.003354020416736603, -0.09949776530265808, 0.20435169339179993, 0.15135598182678223, 0.037689149379730225, -0.28150466084480286, 0.11954918503761292, 0.04229561612010002, -0.09235848486423492, 0.05252194404602051, 0.2833114266395569, 0.09924814105033875, -0.0839235931634903, -0.03513770550489426, -0.15002214908599854, -0.13234196603298187, -0.3236813545227051, -0.0740433856844902, -0.3614327907562256, 0.019575413316488266, 0.2036631554365158, -0.120212122797966, -0.0895155668258667, -0.23736591637134552, -0.18394139409065247, -0.1393543928861618, 0.030745167285203934, 0.21287047863006592, 0.14149536192417145, 0.1367298811674118, 0.043084774166345596, 0.1544215828180313, -0.008742235600948334, -0.10340297222137451, -0.20289404690265656, 0.022369109094142914, -0.002963045611977577, -0.024859491735696793, -0.11604171991348267, 0.01246542390435934, -0.11413715779781342, -0.08123422414064407, 0.1543167531490326, -0.27782124280929565, 0.0828966423869133, -0.10103477537631989, -0.17591705918312073, 0.05364502966403961, -0.20543746650218964, 0.1455405205488205, 0.2915492057800293, 0.0651976689696312, 0.19163450598716736, -0.311798095703125, 0.05368050932884216, -0.25110387802124023, 0.08889006823301315, -0.10404856503009796, 0.12858183681964874, -0.16349206864833832, 0.6823577880859375, 0.16409078240394592, 0.37961187958717346, 0.658797562122345, -0.2581092417240143, 0.36788907647132874, 0.24885344505310059, -0.23729215562343597, -0.1827329397201538, 0.07305561751127243, 0.351217657327652, -0.17045384645462036, 0.16289541125297546, -0.2084638923406601, 0.10402423143386841, 0.41552746295928955, -0.07373321056365967, 0.45200344920158386, 0.36943304538726807, 0.09780934453010559, -0.06025434285402298, -0.775313138961792, -0.5554155111312866, -0.3375536799430847, 0.4665523171424866, -0.045032065361738205, 0.10714924335479736, -0.12366507947444916, -0.38266587257385254, -0.22541755437850952, 0.13389933109283447, -0.13432039320468903, -0.2976292669773102, 0.003961154259741306, 0.05700484663248062, -0.030919760465621948, -0.07285697758197784, -0.5441005229949951, 0.1242159903049469, -0.045269716531038284, 0.17218580842018127, -0.05671689286828041, -0.25278782844543457, 0.22214379906654358, 0.07078709453344345, 0.05365949124097824, -0.18036256730556488, 0.20415529608726501, -0.16459888219833374, 0.256290078163147, -0.36563050746917725, 0.12397193163633347, -0.3277510702610016, -0.14941580593585968, 0.22988533973693848, 0.419251948595047, 0.14629310369491577, -0.23198294639587402, -0.09302361309528351, 0.0936545729637146, -0.05348986014723778, -0.4743642807006836, 0.183150976896286, 0.27856552600860596, -0.0950254499912262, -0.24338394403457642, 0.17048175632953644, 0.08396284282207489, -0.08796893060207367, -0.18686918914318085, 0.4041973352432251, 0.2363009750843048, 0.10520994663238525, -0.2452046275138855, -0.017767859622836113, 0.17114146053791046, -0.09860721975564957, 0.027861200273036957, 0.11764422804117203, 0.11873401701450348, -0.10472460091114044, -0.35628706216812134, -0.3939805030822754, -0.18645882606506348, 0.02731900103390217, -0.15679799020290375, -0.12329597771167755, -0.10289657115936279, 0.11380668729543686, 0.2017967402935028, -0.46724599599838257, 0.25596150755882263, 0.4564506411552429, -0.07156585156917572, -0.008125025779008865, 0.17558574676513672, 0.283577561378479, 0.11490758508443832, -0.3331339955329895, -0.03646044060587883, -0.15094682574272156, -0.08060964941978455, 0.41420140862464905, 0.03069233149290085, -0.21903100609779358, 0.1298639178276062, 0.24108460545539856, 0.43705785274505615, 0.0770808532834053, -0.4391342103481293, 0.2821767032146454, -0.18442587554454803, 0.2562717795372009, 0.27715426683425903, 0.0016239527612924576, -0.11984612792730331, 0.16851064562797546, 0.18056917190551758, -0.2825116217136383, -0.34423643350601196, -0.08474628627300262, -0.5037158727645874, 0.15133540332317352, -0.20977658033370972, -0.5017595291137695, -0.20919305086135864, -0.3398510217666626, -0.20949819684028625, -0.1989181637763977, -0.22982443869113922, -0.19474393129348755, -0.2338162362575531, -0.15424203872680664, -0.04169365018606186, 0.11692653596401215, 0.23812736570835114, -0.18645688891410828, 0.0341932587325573, -0.002703120931982994, -0.15898902714252472, -0.32462078332901, 0.035885896533727646, -0.18190887570381165, 0.20835258066654205, -0.08119910955429077, -0.02040943130850792, 0.050617706030607224, 0.06225408613681793, -0.11202964931726456, 0.1723160743713379, 0.08329444378614426, 0.07167160511016846, 0.5392991304397583, -0.17710676789283752, -0.35613763332366943, -0.33020448684692383, 0.05294307321310043, -0.12898319959640503, -0.31451213359832764, -0.10733798146247864, 0.6174699068069458, 0.40819549560546875, 0.133115753531456, -0.0861806645989418, -0.4311552047729492, 0.1935073435306549, -0.14320211112499237, 0.13017335534095764, -0.17654812335968018, -0.038032807409763336, 0.06341435760259628, 0.19078212976455688, -0.3239381015300751, 0.5111710429191589, -0.16237500309944153, -0.0036136326380074024, 0.029689915478229523, 0.058617666363716125, -0.1480824053287506, 0.11519388109445572, 0.0643666535615921, 0.0062372684478759766, 0.08053889870643616, -0.17595162987709045, 0.066151924431324, 0.02344650961458683, -0.04773016273975372, 0.06018972396850586, 0.21800681948661804, -0.258161336183548, 0.10458352416753769, -0.20634332299232483, -0.1484634280204773, 0.28119975328445435, -0.14148537814617157, -0.262442946434021, 0.38858431577682495, 0.2631637752056122, 0.08917013555765152, -0.16149994730949402, -0.10270201414823532, 0.0020493734627962112, -0.2060643434524536, 0.25518378615379333, 0.2422092854976654, 0.033297426998615265, 0.1520027220249176, -0.006283143535256386, -0.07080352306365967, -0.1247878223657608, 0.6701130867004395, -0.03930037096142769, -0.39794906973838806, 0.13062117993831635, -1.5599415302276611, 0.1639726758003235, -0.09969762712717056, -0.06107628345489502, 0.7191462516784668, -0.207554429769516, -0.11562412977218628, -0.4235902428627014, 0.12840071320533752, 0.21839500963687897, 0.2580151855945587, 0.10490173101425171, -0.027753280475735664, -0.011013817973434925, -0.00905609130859375, -0.274752676486969, -0.11971434950828552, 0.33906421065330505, -0.08029159903526306, 0.31379443407058716, -0.011342596262693405, 0.08542582392692566, -0.07416002452373505, 0.21383647620677948, -0.02469974011182785, -0.01645713858306408, -0.16753864288330078, -0.11424010246992111, -0.9053632020950317, 0.4144759178161621, 0.0023772616405040026, 0.2546427845954895, -0.6669396162033081, -0.0014570807106792927, -0.18411263823509216, -0.33719515800476074, -0.4547576606273651, -0.11864294111728668, 0.37083104252815247, -0.2737235426902771, 0.15749166905879974, -0.048112042248249054, -0.1453029215335846, -0.23506063222885132, 0.26585590839385986, 0.008787833154201508, 0.6653879880905151, -0.4823837876319885, 0.1336088478565216, -0.3989095687866211, 0.3625335097312927, -0.06449700146913528, -0.03510215878486633, 0.14166224002838135, -0.2749324142932892, 0.016470659524202347, -0.2044496387243271, 0.3197365701198578, 0.39794909954071045, 0.31283459067344666, -0.1315402388572693, 0.30526596307754517, 0.306111216545105, -0.16542351245880127, 0.054905086755752563, 0.7144408822059631, -0.06036710366606712, -0.07121174782514572, -0.1962183117866516, -0.09723467379808426, -0.5711684226989746, -0.3331507742404938, -0.05093609169125557, 0.24982920289039612, 0.01632915437221527, -0.08134949207305908, 0.6680963039398193, -0.20286358892917633, 0.4099354147911072, -0.028818411752581596, 0.3942795395851135, -0.022442538291215897, -0.133417010307312, -0.47443822026252747, -0.12763254344463348, -0.1254996359348297, 0.09010160714387894, 0.16212569177150726, -0.2933717966079712, -0.0726783275604248, 0.05434515327215195, 0.07307489216327667, -0.07602754980325699, 0.21194614470005035, 0.18780261278152466, 0.27976787090301514, -0.1866016387939453, -0.09400272369384766, -0.029639050364494324, 0.18701669573783875, 0.23368340730667114, -0.24654918909072876, -0.29303133487701416, -0.25939714908599854, -0.41291648149490356, 0.15261568129062653, -0.1665906459093094, -0.4036097526550293, 0.20172934234142303, -0.13961093127727509, -0.13071474432945251, -0.09508760273456573, -0.04723897576332092, -0.15935258567333221, -0.044445835053920746, 0.2567693591117859, 0.7013996839523315, -0.03097202442586422, -0.049924999475479126, -0.17267614603042603, 0.34574633836746216, 0.16940319538116455, 0.10833209753036499, -0.3191450536251068, 0.19296908378601074, 0.06262406706809998, -0.4329805374145508, -0.1932535171508789, 0.1284433752298355, 0.1351238191127777, -0.0028888657689094543, 0.3129315972328186, -0.09274882823228836, 0.1384265273809433, -0.2360461801290512, 0.06510335206985474, -0.06578915566205978, -0.15619555115699768, -0.5467430949211121, 0.06406891345977783, 0.16692155599594116, 0.29782116413116455, -0.13499101996421814, 0.20408475399017334, -0.09812746942043304, 0.3040919899940491, -0.22041165828704834, 0.07645918428897858, 0.14302457869052887, -0.20824161171913147, 0.16946902871131897, -0.04951728135347366, 0.014673862606287003, -0.3412824273109436, -0.13776835799217224, 0.16227266192436218, 0.19271132349967957, -0.05037767440080643, 0.21096201241016388, -0.05993132293224335, -0.040045030415058136, 0.11493842303752899, -0.1807536780834198, 0.0867515578866005, 0.09890668839216232, -0.17650316655635834, -0.09903264045715332, 0.04312678799033165, -0.014465922489762306, -0.002157093957066536, 0.037728723138570786, 0.10371099412441254, 0.16803163290023804, 0.27221208810806274, -0.08434169739484787, 0.2513393461704254, 0.35845160484313965, -0.29888659715652466, -0.2154015600681305, -0.20546168088912964, -0.2557148337364197, -0.32496190071105957, 0.04635583609342575, 0.005621989723294973, 0.19378983974456787, 0.06177309900522232, -0.0625840499997139, 0.14967960119247437, -0.23902742564678192, -0.03863590210676193, -0.055820565670728683, -0.19781479239463806, -0.04534151777625084, -0.045740049332380295, -0.42900118231773376, -0.10284460335969925, 0.006186194717884064, 0.07534053921699524, 0.08309948444366455, 0.4646248519420624, -0.2896292805671692, 0.12900817394256592, -0.1150922030210495, 0.03866501525044441, 0.11677329987287521, 0.10091716051101685, -0.061319947242736816, 0.08251649886369705, 0.2243269383907318, 0.2664337158203125, -0.30410701036453247, 0.13600382208824158, 0.2369333952665329, -0.27888017892837524, -0.48403817415237427, 0.053076453506946564, -0.05724231153726578, -0.047338876873254776, 0.528719425201416, 0.013022547587752342, -0.33007240295410156, 0.25611257553100586, -0.24053680896759033, -0.022255249321460724, 0.1350335031747818, -0.3645975589752197, 0.027981819584965706, -0.14752483367919922, -0.3224497139453888, -0.1600341796875, -0.22458091378211975, -0.12672868371009827, -0.10653359442949295, 0.5798394680023193, -0.15847671031951904, -0.04311184585094452, 0.9064342975616455, -0.24785713851451874, 0.056073203682899475, 0.31874650716781616, -0.2243092954158783, -0.25088024139404297, 0.267509400844574, -0.2734691798686981, -0.12054717540740967, -0.13676247000694275, 0.1654224395751953, -0.3189981281757355, -0.23911811411380768, 0.0525435246527195, 0.1496037244796753, -0.03702465072274208, 0.24607454240322113, 0.12041397392749786, 0.017157630994915962, -0.41289693117141724, -0.0008766870014369488, -0.2691701054573059, 0.12190946936607361, 0.07713120430707932, 0.027816396206617355, 0.1322644054889679, 0.01651744358241558, 0.0927838534116745, 0.015166038647294044, -0.472482830286026, 0.0273016095161438, -0.04109905660152435, -0.2624993622303009, 0.2477133870124817, -0.30708885192871094, -0.2603394389152527, 0.31675347685813904, 0.25416263937950134, -0.09718114137649536, 0.2724819779396057, -0.5328375101089478, -0.17122098803520203, 0.5108915567398071, -0.06602809578180313, -0.25587061047554016, -0.16285160183906555, -0.24236352741718292, 0.16498994827270508, -0.4790535569190979, -0.015089992433786392, -0.17920109629631042, 0.17692911624908447, 0.1691892445087433, -0.37075215578079224, -0.13516423106193542, -0.1276547610759735, -0.16530747711658478, -0.3599119484424591, -0.4105439782142639, -0.31752967834472656, 0.3013561964035034, 0.3118656873703003, -0.024275820702314377, -0.22488266229629517, 0.04204210638999939, -0.2977975010871887, 0.2745208144187927, -0.03146066889166832, -0.08535230159759521, 0.07258231937885284, -0.0808398425579071, 0.2285102903842926, 1.020339846611023, -0.11821527779102325, 0.19909031689167023, 0.2894376218318939, -0.1187954694032669, -0.07645095884799957, 0.2098897099494934, -0.1329963058233261, 0.07430487126111984, -0.2645150423049927, -0.1550421118736267, -0.14161323010921478, 0.37643182277679443, -0.2530860900878906, -0.05024779587984085, 0.031123679131269455, 0.20916776359081268, -0.1205432265996933, -0.3531950116157532, -0.004880791995674372, -0.179814875125885, -0.3240678608417511, 0.11781533807516098, 0.2668619453907013, 0.21265637874603271, -0.1716037094593048, -0.3693169951438904, 0.18180471658706665, -0.013170461170375347, -0.6545009613037109, -0.23215830326080322, 0.22857806086540222, -0.3283320367336273, 0.309876948595047, 0.10098476707935333, -0.009838351979851723, -0.41526955366134644], payload={'url': 'http://g1.globo.com/ap/amapa/noticia/2023/04/27/covid-19-veja-onde-macapa-oferta-vacinas-em-28-de-abril.ghtml', 'title': 'Covid-19: veja onde Macapá oferta vacinas em 28 de abril ', 'titleCharCount': 57, 'textCharCount': 2345, 'topics': ['ap'], 'body': 'Vacinação em Macapá\\nPMM/Divulgação\\nNesta sexta-feira (28), Macapá oferta vacinas contra a Covid-19 para pessoas com ou sem comorbidades, em todas as Unidades Básicas de Saúde (UBSs). Para quem está dentro do prazo previsto, são aplicadas doses de CoronaVac e Pfizer Baby e Pfizer Pediátrica.\\nQuem pode se vacinar contra Covid-19?\\n1ª dose\\ntodos acima de 12 anos e crianças entre 3 e 5 anos. \\n2ª dose\\nacima de 40 anos, imunossuprimidos, gestantes, puérperas, lactantes e profissionais da saúde.\\nLocais de imunização da Secretaria Municipal de Saúde (Semsa)\\nPara todos os públicos a partir de 12 anos, das 8h às 17h, em todas as Unidades Básicas de Saúde (UBSs): Coração, Álvaro Corrêa (São Lázaro), Rosa Moita (Nova Esperança), Brasil Novo, Pacoval, Perpétuo Socorro, Raimundo Hozanan (Muca), Cidade Nova, Padre Raul Matte (Zerão), Congós, Macapaba, Pedrinhas, Curiaú, Marabaixo, Rubim Aronovitch (Santa Inês), Leozildo Fontoura (Zerão), BR-210, Novo Horizonte, Marcelo Cândia (Jardim Felicidade), Pantanal e Fazendinha.\\nSomente para o público entre 3 anos e menores de 5 anos das 8h às 16h: nas UBSs Álvaro Corrêa; Cidade Nova; Fazendinha; Raimundo Hozanan.\\nVacina Bivalente\\nPessoas acima de 18 anos, todos os públicos prioritários e imunocomprometidas a partir de 12 anos.\\nVacina Influenza\\nidosos acima de 60 anos, trabalhadores da saúde, crianças (6 meses a < de 6 anos), gestantes, puérperas, povos indígenas, professores, pessoas com comorbidades, pessoas com deficiência permanente;\\ncaminhoneiros, trabalhadores de transporte coletivo (rodoviário passageiro urbano e de longo curso), trabalhadores portuários, forças de segurança e salvamento, forças armadas; \\nfuncionários do sistema de privação de liberdade, população privada de liberdade com mais de 18 anos de idade, adolescentes e jovens em medidas socioeducativas.\\nDocumentos necessários para vacinação contra Covid-19\\nPara a 1ª dose: originais e cópias de um documento oficial com foto, CPF, comprovante de residência, carteira de vacinação; no caso das crianças e adolescentes é obrigatória a presença do responsável.\\nPara 2ª dose: carteira de vacinação com indicação do recebimento da 1ª dose.\\nDose de reforço e 4ª dose: carteira de vacinação com a indicação da aplicação da dose anterior da vacina.\\nVeja o plantão de últimas notícias do g1 Amapá\\nVÍDEOS com as notícias do Amapá:\\n ', 'publishTimestamp': 1682641092.0}),\n",
       " PointStruct(id='1eddaedc-c687-4e1e-a70c-18101c6862cb', vector=[-0.21505573391914368, -0.04161246865987778, 0.5019338726997375, 0.0805010050535202, 0.12463689595460892, 0.363864928483963, 0.2650343179702759, 0.20284506678581238, -0.2939496636390686, -0.17862844467163086, 0.18957823514938354, 0.2180168628692627, -0.1703687608242035, 0.21469980478286743, -0.2390565276145935, -0.07672896981239319, 0.22065088152885437, 0.0614011287689209, 0.06242113187909126, -0.12926769256591797, -0.27422896027565, 0.16873490810394287, -0.08338860422372818, -0.21685858070850372, -0.23833948373794556, 0.2629276216030121, -0.17854031920433044, -0.15766538679599762, -0.47259074449539185, -0.2289213240146637, -0.0646604597568512, 0.2860601544380188, -0.14276517927646637, 0.3383423388004303, 0.2202211618423462, 0.13627752661705017, 0.16423892974853516, -0.19172710180282593, -0.03596058860421181, 0.29738789796829224, 0.09666243195533752, 0.09048984199762344, 0.0019626542925834656, -0.017182905226945877, -0.024648303166031837, -0.4617956876754761, 0.03571702539920807, -0.04911145567893982, -0.13432267308235168, -0.11534465849399567, 0.16476348042488098, 0.06458964943885803, 0.1622118353843689, 0.45375752449035645, -0.0246175117790699, 0.00866779312491417, 0.1314573884010315, 0.006039723753929138, -0.11162103712558746, -0.27545398473739624, 0.07521407306194305, -0.05123107135295868, 0.06459945440292358, -0.4060456156730652, 0.30081629753112793, -0.11832486838102341, 0.0346590019762516, -0.4448211193084717, 0.32057684659957886, 0.4802857041358948, 0.05251085013151169, 0.03459564596414566, 0.22215226292610168, -0.20348364114761353, -0.16733291745185852, 0.38801899552345276, -0.015231037512421608, -0.06836466491222382, -0.2463403344154358, -0.3206125497817993, -0.21519050002098083, -0.13963323831558228, 0.067853644490242, 0.09785906970500946, -0.29056358337402344, -0.035618364810943604, 0.10851134359836578, -0.2982262372970581, 0.4571836292743683, -0.7270404100418091, 0.4009717106819153, 0.40124040842056274, 0.3885674774646759, 0.2810477018356323, -0.1142147034406662, 0.7275018692016602, -0.10534907132387161, 0.06771740317344666, -0.1731996238231659, -0.18984925746917725, -0.09375664591789246, -0.2186947762966156, 0.49699461460113525, -0.04510516673326492, 0.44041162729263306, 0.022702546790242195, 0.2723497748374939, 0.23694050312042236, -0.2698554992675781, 0.2753640413284302, 0.09322550147771835, 0.3751792907714844, 0.18765684962272644, 0.11979186534881592, 0.4495813250541687, -0.6216991543769836, -0.16877153515815735, 0.5019667148590088, 0.39842045307159424, -0.4038533568382263, 0.019731156527996063, -0.1285111904144287, -0.043482258915901184, 0.15632209181785583, 0.22645610570907593, 0.008967041969299316, -0.011019125580787659, -0.13525573909282684, 0.2370392084121704, -0.3755137026309967, 0.10376560688018799, -0.35911816358566284, -0.11408500373363495, 0.04886941611766815, 0.23088416457176208, -0.007466863840818405, 0.25570380687713623, 0.026324845850467682, 0.04392091929912567, 0.2152923345565796, 0.009021081030368805, 0.13439558446407318, -0.07199843972921371, 0.1593485325574875, 0.185214102268219, -0.30438780784606934, -0.6052245497703552, 0.40367239713668823, 0.03520887717604637, -0.2400820255279541, -0.17036299407482147, 0.09763424098491669, 0.06373029202222824, -0.07495112717151642, -0.05559059977531433, 0.40358126163482666, -0.03089044615626335, -0.14919032156467438, 0.02177920565009117, 0.18193167448043823, -0.23481225967407227, 0.10563899576663971, 0.009627297520637512, -0.48645883798599243, 0.022151699289679527, -0.30584973096847534, -0.16663402318954468, 0.006001695524901152, -0.06558959931135178, 0.3238891363143921, -0.00638172123581171, -0.03711039572954178, -0.511396050453186, 0.043837763369083405, -0.03455536440014839, 0.29575788974761963, 0.32463401556015015, 0.21998871862888336, 0.31938403844833374, -0.05622737109661102, 0.14523348212242126, -0.2217532843351364, -0.08413524925708771, -0.2261962592601776, 0.06425835937261581, -0.010844338685274124, -0.0900714099407196, -0.19125795364379883, 0.053118959069252014, -0.17551752924919128, -0.3725903034210205, 0.1062006726861, -0.2508074939250946, 0.04627491533756256, -0.23745736479759216, -0.19324462115764618, 0.12310844659805298, -0.2041139453649521, -0.05083775520324707, 0.44836023449897766, -0.03276590257883072, 0.22368593513965607, -0.3218306601047516, -0.12136955559253693, -0.06356149166822433, 0.19111785292625427, -0.18015190958976746, 0.21794739365577698, -0.11444909870624542, 0.6561753749847412, 0.085459403693676, 0.36879783868789673, 0.7794500589370728, -0.011929966509342194, 0.28365910053253174, 0.28772854804992676, -0.21832026541233063, -0.06553838402032852, -0.02697114087641239, 0.21809573471546173, 0.08731402456760406, 0.20706480741500854, -0.08145628869533539, 0.08178924024105072, 0.22970908880233765, -0.24048101902008057, 0.5137823224067688, 0.4114855229854584, 0.02405312843620777, 0.19174343347549438, -0.5309484004974365, -0.38964787125587463, -0.2427653670310974, 0.4108027219772339, -0.04118024557828903, 0.26246148347854614, -0.011586800217628479, -0.37219613790512085, -0.4119202494621277, -0.168372243642807, -0.06808799505233765, -0.4948604702949524, 0.07125852257013321, -0.0752597376704216, -0.24238154292106628, -0.10642923414707184, -0.27298060059547424, 0.1145215705037117, 0.1769561469554901, -0.23439355194568634, -0.18734654784202576, -0.2609648108482361, 0.1855975091457367, 0.3086651563644409, 0.15957924723625183, -0.19218027591705322, 0.07756423950195312, -0.0338289700448513, 0.07896922528743744, -0.46325236558914185, 0.015826795250177383, -0.5760225057601929, -0.16807594895362854, 0.17579996585845947, 0.4612462520599365, 0.15698467195034027, -0.3157554566860199, 0.015566287562251091, -0.12660567462444305, -0.14206063747406006, -0.27204567193984985, 0.15181748569011688, 0.3051629066467285, -0.018506132066249847, -0.3504761755466461, 0.1538771688938141, -0.03196127340197563, 0.03981691226363182, -0.021098097786307335, 0.38102784752845764, 0.26645296812057495, 0.1907823085784912, -0.2072659432888031, 0.041834115982055664, 0.09609042853116989, -0.1474234014749527, 0.24744506180286407, 0.02408413216471672, 0.24900147318840027, -0.41228604316711426, -0.30487000942230225, -0.2140507996082306, -0.18824070692062378, 0.24209734797477722, -0.08332247287034988, -0.09813988208770752, -0.1890994757413864, 0.22537317872047424, 0.1908300518989563, -0.4356253743171692, -0.034705713391304016, 0.5352336764335632, -0.24112007021903992, 0.20987139642238617, 0.3683423101902008, 0.172826886177063, -0.111858069896698, -0.3997989296913147, 0.08246809244155884, -0.164491206407547, -0.1953536570072174, 0.03230075538158417, 0.0898362472653389, -0.30018576979637146, -0.0029835039749741554, 0.010788129642605782, 0.4409198760986328, 0.11622994393110275, -0.2890530228614807, -0.016581017524003983, -0.058347150683403015, 0.13178731501102448, 0.08886648714542389, 0.08350570499897003, -0.1536055952310562, 0.2492344081401825, 0.15277224779129028, -0.2411821484565735, -0.31993937492370605, -0.1345973014831543, -0.4091416299343109, 0.18824906647205353, -0.17611975967884064, -0.625994086265564, 0.041285403072834015, -0.36976489424705505, -0.14107228815555573, -0.18666402995586395, -0.3378306031227112, 0.1510123461484909, -0.39172160625457764, -0.17208603024482727, 0.14892292022705078, 0.20003147423267365, 0.487402081489563, -0.06867488473653793, 0.0025428682565689087, -0.06796762347221375, 0.052965834736824036, -0.6895483732223511, -0.14243252575397491, -0.2284083515405655, 0.4320598840713501, -0.10078621655702591, -0.15346774458885193, 0.1589106172323227, -0.18227654695510864, -0.12003796547651291, 0.14053060114383698, 0.1098237931728363, 0.1917979121208191, 0.28679972887039185, -0.09608519077301025, -0.07361109554767609, -0.39815080165863037, 0.25590819120407104, -0.10156792402267456, -0.27506208419799805, 0.02985614538192749, 0.5482125282287598, 0.4273219108581543, 0.34359559416770935, -0.06986972689628601, -0.8276044130325317, 0.06397359073162079, -0.18018129467964172, -0.17098549008369446, -0.3509995937347412, 0.10867540538311005, 0.1376202255487442, 0.09794243425130844, -0.4052543044090271, 0.33505553007125854, 0.0797610729932785, -0.16005074977874756, 0.11454559862613678, -0.10528072714805603, -0.4506390392780304, 0.19684991240501404, 0.16969630122184753, -0.17541228234767914, 0.31142693758010864, -0.02428710088133812, 0.09736708551645279, -0.258234441280365, -0.080848827958107, 0.22988438606262207, 0.10491995513439178, -0.6993942260742188, 0.08872385323047638, -0.27477163076400757, -0.225959911942482, 0.39800095558166504, -0.1241290271282196, -0.14235305786132812, 0.2730100750923157, 0.20136356353759766, 0.08532364666461945, -0.09444913268089294, -0.06674586236476898, -0.0759892463684082, -0.22204765677452087, 0.5595821142196655, 0.18450185656547546, 0.05764375627040863, 0.2799024283885956, -0.22300273180007935, -0.09598436951637268, 0.0005741179920732975, 0.7634881734848022, 0.03317941725254059, -0.37269240617752075, 0.05145103856921196, -1.6380400657653809, 0.1511034071445465, -0.1197860836982727, 0.11370942741632462, 0.7224258184432983, -0.10987358540296555, -0.22537535429000854, -0.5685117840766907, 0.06904473900794983, 0.33156394958496094, 0.3242296576499939, 0.178121417760849, 0.08500891923904419, -0.03920527547597885, -0.07890394330024719, -0.36982619762420654, -0.13879504799842834, 0.5458893775939941, -0.2315392643213272, -0.023070059716701508, 0.03656691685318947, 0.008487749844789505, -0.20195066928863525, -0.0681828111410141, 0.16018390655517578, -0.20842108130455017, -0.1777706891298294, -0.02091020531952381, -0.6751257181167603, 0.43451082706451416, 0.03422634303569794, 0.3294556438922882, -0.4571390450000763, 0.2389744520187378, -0.047662027180194855, -0.2573709189891815, -0.5559446215629578, -0.28052306175231934, 0.48138877749443054, -0.1802828311920166, 0.12581244111061096, -0.09480862319469452, -0.4315003752708435, 0.0027317143976688385, 0.26538461446762085, -0.11569669097661972, 0.9442242980003357, -0.2790206968784332, 0.247536301612854, -0.400693416595459, 0.3487519323825836, -0.11946125328540802, 0.05829135328531265, 0.15505284070968628, -0.29426586627960205, 0.0960988998413086, -0.003313204273581505, 0.7044872045516968, 0.3701310157775879, 0.13998302817344666, -0.13131850957870483, 0.18642733991146088, 0.2622542083263397, -0.265608012676239, 0.08680550754070282, 0.6051435470581055, 0.14937332272529602, 0.017025798559188843, -0.33820417523384094, -0.12785327434539795, -0.39156511425971985, -0.23127862811088562, -0.10054940730333328, 0.5083007216453552, 0.12606525421142578, 0.04297012463212013, 0.5926274061203003, 0.11813847720623016, 0.4709470272064209, -0.05957416817545891, 0.16818146407604218, -0.012801868841052055, -0.2435903549194336, -0.04816720634698868, -0.151848703622818, -0.25498247146606445, 0.066277876496315, 0.05844239145517349, -0.431976318359375, 0.009450139477849007, 0.0018853992223739624, -0.04190598428249359, 0.07924939692020416, 0.31123650074005127, 0.1964603066444397, 0.11679555475711823, -0.11009208858013153, -0.0808694064617157, -0.2772122621536255, 0.2118544578552246, 0.18099744617938995, -0.18979893624782562, -0.5372587442398071, -0.09722644090652466, -0.36163800954818726, -0.10330978035926819, -0.20840229094028473, -0.2244245707988739, 0.2033083140850067, -0.16560392081737518, 0.15823248028755188, 0.03517266362905502, -0.11468234658241272, -0.29432839155197144, -0.04555666819214821, 0.1574544906616211, 0.4594610333442688, -0.03497089073061943, 0.0577237643301487, -0.2834150195121765, 0.13392798602581024, -0.026197653263807297, 0.27880027890205383, -0.45239970088005066, 0.23437468707561493, -0.3830736577510834, -0.26444900035858154, -0.11052019894123077, 0.09166784584522247, 0.2451731264591217, 0.02519659325480461, 0.14101241528987885, 0.20664510130882263, 0.16973650455474854, -0.20450937747955322, -0.10363815724849701, 0.044655315577983856, -0.3353683352470398, -0.29995858669281006, -0.07786636799573898, 0.08517436683177948, 0.43290451169013977, -0.23229339718818665, 0.025720659643411636, -0.15643610060214996, 0.1980711817741394, 0.061428286135196686, 0.3164697289466858, 0.14519956707954407, -0.265494704246521, 0.006856369320303202, -0.18249757587909698, -0.05861366540193558, -0.19804683327674866, -0.22074629366397858, 0.1261305809020996, 0.2655559778213501, -0.14697173237800598, 0.23048925399780273, 0.05365212634205818, -0.06664082407951355, -0.05171143636107445, -0.4383554458618164, 0.20232689380645752, 0.28966909646987915, -0.0711582750082016, -0.15478074550628662, 0.2380658984184265, 0.24680328369140625, 0.09366469085216522, 0.11901871860027313, 0.013296950608491898, -0.12255936115980148, 0.1092555969953537, -0.06423498690128326, 0.15084350109100342, 0.32452335953712463, -0.058875419199466705, -0.2750357389450073, 0.0876581221818924, -0.46481239795684814, -0.3783838748931885, 0.20061494410037994, -0.03320121765136719, 0.04538342356681824, -0.02890840731561184, 0.20802336931228638, 0.033540382981300354, -0.19587922096252441, 0.042956262826919556, -0.3855963945388794, -0.42534199357032776, -0.05629777908325195, -0.21852706372737885, -0.5446555018424988, 0.18885624408721924, 0.15815475583076477, 0.22701409459114075, -0.3745635151863098, 0.360615611076355, -0.15197248756885529, 0.0978873074054718, 0.04765968769788742, -0.08309110999107361, 0.2705608010292053, 0.07840844988822937, -0.19086381793022156, -0.2551061511039734, 0.30095672607421875, 0.1771382987499237, -0.2433740645647049, -0.10186988115310669, 0.3301658630371094, -0.2504939138889313, -0.5234650373458862, 0.05610004812479019, -0.2650483250617981, -0.09064580500125885, 0.5407529473304749, 0.06107230857014656, -0.07601244002580643, 0.12749698758125305, 0.024100620299577713, -0.04082007706165314, 0.12397447228431702, -0.3882545530796051, 0.0704260766506195, 0.2058287262916565, -0.29618334770202637, -0.04865198954939842, -0.3926529288291931, 0.04239193722605705, 0.1895478516817093, 0.6758763194084167, -0.12068206816911697, -0.013552006334066391, 0.9145103693008423, -0.25661706924438477, 0.1916217803955078, 0.2797681987285614, -0.24979689717292786, -0.3393402695655823, 0.3576115369796753, -0.2964738607406616, -0.1859084665775299, -0.2643806040287018, -0.0941842794418335, -0.23001150786876678, -0.49913692474365234, 0.18632341921329498, 0.0010323040187358856, 0.22684001922607422, 0.38901934027671814, 0.021953757852315903, 0.026380032300949097, -0.4604889750480652, -0.08178158104419708, -0.5146242380142212, 0.26840195059776306, 0.18705207109451294, -0.10922406613826752, 0.33031392097473145, -0.22222885489463806, 0.2553350031375885, 0.1268649697303772, -0.576367974281311, -0.19694586098194122, 0.05288607254624367, -0.4108997583389282, 0.08481130748987198, -0.2798892855644226, -0.008301408030092716, 0.27788472175598145, 0.4399697184562683, -0.13472045958042145, 0.3781892657279968, -0.3257564902305603, -0.3162893056869507, 0.3888970613479614, 0.0030592186376452446, 0.020373404026031494, -0.4203217029571533, -0.19707997143268585, -0.1519203782081604, -0.5061296820640564, -0.19731448590755463, -0.11096826940774918, 0.0989670529961586, 0.06191456690430641, -0.1963006556034088, -0.025549601763486862, 0.05849909782409668, -0.316918283700943, -0.057002514600753784, -0.24571476876735687, -0.29460984468460083, 0.014622107148170471, 0.3476858139038086, -0.09782856702804565, -0.18789759278297424, 0.1490134596824646, -0.3635977506637573, -0.07303577661514282, -0.19996345043182373, -0.0798574909567833, 0.30883294343948364, -0.1309097707271576, 0.2207150161266327, 1.23598313331604, -0.29304614663124084, 0.2077035903930664, 0.09199034422636032, -0.35436296463012695, 0.05173501372337341, 0.2345147728919983, -0.0203376654535532, 0.023760158568620682, -0.35661545395851135, -0.09715521335601807, -0.1339745968580246, 0.32008183002471924, -0.177696093916893, -0.1298845410346985, -0.03742360696196556, 0.16304484009742737, 0.06588853150606155, -0.3447346091270447, 0.012488383799791336, -0.3095264434814453, -0.16718962788581848, 0.3217642307281494, 0.35690343379974365, 0.21740475296974182, -0.2797873318195343, -0.17255163192749023, 0.06817317754030228, -0.14838597178459167, -0.7376453876495361, -0.4832763969898224, 0.45290231704711914, -0.46175825595855713, -0.029145043343305588, 0.148949533700943, -0.17010536789894104, -0.11406441777944565], payload={'url': 'http://g1.globo.com/politica/noticia/2023/04/25/comissao-aprova-parecer-favoravel-a-projeto-que-suspende-decreto-de-lula-e-restabelece-flexibilizacao-na-venda-de-armas.ghtml', 'title': 'Comissão dá aval a projeto para suspender decreto de Lula e flexibilizar novamente a venda de armas', 'titleCharCount': 99, 'textCharCount': 2443, 'topics': ['política'], 'body': 'A Comissão de Segurança Pública da Câmara dos Deputados aprovou nesta terça-feira (25) parecer favorável a um projeto que suspende o decreto do presidente Luiz Inácio Lula da Silva e, com isso, restabelece a flexibilização da venda de armas e munições estabelecida durante o governo Jair Bolsonaro. \\nO projeto não é terminativo, ou seja, não tem o poder de suspender o decreto de Lula imediatamente. O texto ainda precisa por votação no plenário da Câmara, o que não tem dada para ocorrer. \\nUma das primeiras medidas de Lula após assumir a presidência, o decreto revogou a política armamentista adotada durante o governo Bolsonaro e que levou a um forte aumento no número de armas de fogo em circulação no Brasil, além de clubes de tiro. \\nO decreto de Lula suspendeu no país os novos registros de armas, de clubes e escolas de tiro, e de CACs, como são conhecidos os caçadores, atiradores e colecionadores. \\nEsse decreto ainda criou um grupo para discutir um novo marco regulatório para o setor e determinou o recadastramento de todas as armas compradas a partir de maio de 2019. \\nInicialmente, o governo estabeleceu prazo de 60 dias para o recadastramento, que terminou no início de abril. A pedido de parlamentares, porém, a data limite para o registro foi adiada para 3 de maio. Mais de 800 mil armas já foram recadastradas. \\nArgumentos \\nO deputado Alberto Fraga (PL-DF), relator do projeto que suspende o decreto de Lula, apontou que a medida visa restaurar a regularidade do registro de armas no país e o livre exercício da prática de tiro pelos CACs. \\nFraga afirmou que a decisão de Lula “possui determinações eivadas de revanchismo injustificado” contra CACs, que formam um grupo de apoio ao ex-presidente Jair Bolsonaro.  \\n“Esse projeto restabelece o direito de praticar tiro esportivo e impede que o recadastramento seja utilizado para perseguir CACs”, disse Fraga. \\nSTF forma maioria para manter suspensão a decreto de armas de Bolsonaro\\nO deputado Pastor Henrique Vieira (PSOL-RJ), da base do governo Lula, afirmou que a política de flexibilização de armas tem potencial para elevar os homicídios no Brasil. \\nEle apontou que a decisão da comissão de aprovar o parecer sobre o projeto ocorre às vésperas de o governo apresentar uma proposta de novo marco regulatório para o setor e dificulta as negociações entre o governo e a oposição sobre o tema. \\n“Não é uma boa sinalização, em termos de negociação com o governo”, disse Vieira. ', 'publishTimestamp': 1682448729.0}),\n",
       " PointStruct(id='51cb0e38-9928-4158-9fa7-097c369e2d83', vector=[-0.11239168047904968, -0.13537009060382843, 0.44966304302215576, -0.03629019111394882, 0.24211622774600983, 0.3058076798915863, 0.03551314026117325, 0.30993908643722534, -0.36757075786590576, -0.1265106052160263, 0.2844505310058594, 0.2679429352283478, -0.010400187224149704, 0.2130877673625946, -0.21668720245361328, -0.013710256665945053, 0.1681918203830719, -0.11202390491962433, -0.009357275441288948, 0.0035675596445798874, -0.2700749635696411, 0.09643266350030899, 0.06417391449213028, -0.3198951482772827, -0.28279656171798706, 0.27453118562698364, -0.1526019275188446, 0.004410490393638611, -0.24054081737995148, -0.44025713205337524, -0.08595962077379227, 0.2338257133960724, -0.12490503489971161, 0.3031426668167114, 0.16493180394172668, 0.17079511284828186, 0.28375840187072754, 0.10545389354228973, -0.04755108058452606, 0.07334482669830322, -0.08691492676734924, -0.14373493194580078, 0.0453694611787796, -0.029315069317817688, -0.10898571461439133, -0.280743807554245, -0.007520649582147598, 0.06994376331567764, -0.4452754855155945, -0.05676887556910515, 0.06219211965799332, 0.05894599109888077, 0.21697407960891724, 0.29343515634536743, 0.006367728114128113, -0.03894481062889099, 0.13082560896873474, -0.02746634930372238, 0.03897633031010628, -0.37606745958328247, 0.025402644649147987, 0.08296391367912292, 0.001795440912246704, -0.09975837916135788, 0.20881086587905884, 0.08434948325157166, 0.13820450007915497, -0.3765844404697418, 0.18055051565170288, 0.441183865070343, -0.1635502725839615, -0.03173138201236725, 0.15881022810935974, -0.32788413763046265, -0.140287846326828, 0.34284138679504395, -0.0833703950047493, 0.13634264469146729, -0.05968020111322403, -0.40157270431518555, -0.09098593145608902, -0.25577646493911743, -0.15661780536174774, 0.28331416845321655, -0.3247208595275879, -0.09906087070703506, -0.02289663441479206, -0.21886101365089417, 0.4761303663253784, -0.6124380826950073, 0.351256787776947, 0.05767965689301491, 0.4156588613986969, 0.14424735307693481, -0.1108381599187851, 0.5343739986419678, 0.0045225173234939575, 0.09317998588085175, -0.19676312804222107, -0.21918083727359772, -0.05916714295744896, -0.2078905701637268, 0.2959486246109009, 0.01289791613817215, 0.51520836353302, 0.07150775194168091, 0.17312760651111603, 0.19757848978042603, -0.2030370980501175, 0.3108066916465759, 0.13173630833625793, 0.44124430418014526, 0.18881788849830627, 0.10128522664308548, 0.5296896696090698, -0.6422258615493774, -0.20041269063949585, 0.3183150291442871, 0.6688598990440369, -0.4042489528656006, -0.02596461772918701, 0.13034509122371674, -0.033969778567552567, 0.22505351901054382, 0.2808859348297119, -0.18029245734214783, -0.18832704424858093, -0.06584291160106659, 0.1586608588695526, -0.15786562860012054, 0.14205771684646606, -0.38042840361595154, -0.11993379890918732, -0.040512047708034515, 0.49332326650619507, 0.048704594373703, -0.020943842828273773, 0.09327409416437149, 0.05275944620370865, 0.2067740261554718, -0.03640713542699814, 0.04811471328139305, 0.015835657715797424, 0.16831356287002563, 0.12181943655014038, -0.18887318670749664, -0.7614033222198486, 0.37974539399147034, -0.06450729072093964, -0.298190712928772, -0.06295154988765717, 0.1663094162940979, 0.14878439903259277, 0.05364832654595375, -0.09092008322477341, 0.4470217823982239, 0.011783510446548462, -0.09907585382461548, -0.01609501801431179, 0.008877460844814777, -0.11794155836105347, -0.07192594558000565, 0.1666725128889084, -0.2565402388572693, 0.045158687978982925, -0.2967584431171417, -0.07536392658948898, -0.1791566014289856, -0.05459751933813095, 0.17762018740177155, 0.01361420750617981, 0.08780129253864288, -0.5406262874603271, -0.11100637167692184, -0.038212474435567856, 0.35422283411026, 0.2957746386528015, 0.19150298833847046, 0.1281736195087433, -0.0861121192574501, 0.2175201028585434, -0.32448238134384155, -0.1318754255771637, -0.06477610766887665, 0.011994088999927044, -0.06693454086780548, 0.0068687209859490395, -0.22431692481040955, -0.10632357746362686, -0.1184997409582138, -0.26512789726257324, 0.25936397910118103, -0.14431753754615784, 0.08062060177326202, -0.3173154592514038, -0.22528745234012604, -0.0030978070572018623, -0.23841440677642822, -0.07041958719491959, 0.3554174304008484, -0.06716800481081009, 0.04156564548611641, -0.3113400936126709, -0.20076687633991241, -0.14835377037525177, 0.05241863429546356, -0.1607142686843872, 0.2674959897994995, -0.09050378203392029, 0.5695867538452148, 0.04594651609659195, 0.49381521344184875, 0.7616844177246094, -0.21467995643615723, 0.25392946600914, 0.23988762497901917, -0.09748423099517822, -0.003367045894265175, -0.009770924225449562, 0.3496478796005249, -0.1140466183423996, 0.29078176617622375, -0.07177069783210754, 0.07157356292009354, 0.23921069502830505, -0.2597055435180664, 0.37481582164764404, 0.4706888198852539, -0.1091529056429863, -0.06630770862102509, -0.5867467522621155, -0.5032296776771545, -0.27214908599853516, 0.23244014382362366, 0.037727124989032745, 0.37527406215667725, 0.10654035210609436, -0.3279622495174408, -0.1916917860507965, -0.0589706152677536, -0.00038182176649570465, -0.29247933626174927, -0.026948951184749603, -0.10833391547203064, -0.08033619076013565, -0.021160151809453964, -0.34137022495269775, 0.16757532954216003, 0.17105670273303986, -0.18238133192062378, -0.2528564929962158, -0.1812199056148529, 0.059378232806921005, 0.12030565738677979, 0.155368834733963, -0.14784355461597443, -0.0005070026963949203, 0.0012696757912635803, 0.033404912799596786, -0.41422325372695923, 0.0358036570250988, -0.33582615852355957, -0.09216101467609406, 0.08309178799390793, 0.5845184326171875, 0.2553521394729614, -0.38460713624954224, -0.18000635504722595, -0.14215785264968872, 0.012408427894115448, -0.4029550850391388, 0.16304056346416473, 0.14856743812561035, -0.06841732561588287, -0.29172277450561523, 0.18705308437347412, 0.046881645917892456, 0.02960301749408245, -0.15004399418830872, 0.41527700424194336, 0.2748527228832245, 0.12240126729011536, -0.23815415799617767, -0.1778854876756668, 0.19796094298362732, 0.020182045176625252, 0.2134714424610138, 0.006862957030534744, 0.37599581480026245, -0.3144076466560364, -0.23221665620803833, -0.2970053553581238, -0.2577958405017853, 0.15510356426239014, -0.14211031794548035, -0.33690470457077026, -0.2857847213745117, 0.09125965088605881, 0.12428627908229828, -0.37219059467315674, 0.06176110357046127, 0.40181946754455566, -0.14953893423080444, 0.0979713499546051, 0.22737623751163483, -0.051030971109867096, -0.06764338910579681, -0.2313087433576584, 0.17737221717834473, -0.24319076538085938, -0.22518788278102875, -0.018499568104743958, 0.07057422399520874, -0.04392267391085625, 0.021252427250146866, 0.12510144710540771, 0.44641977548599243, -0.04181710258126259, -0.3460351824760437, 0.0590357705950737, 0.08004078269004822, 0.19828711450099945, 0.12470860779285431, -0.015286974608898163, -0.12747114896774292, 0.1986342966556549, 0.15129399299621582, -0.2834204435348511, -0.40170204639434814, 0.044782496988773346, -0.3978308439254761, 0.3301370441913605, -0.2455221563577652, -0.5750837326049805, -0.09405966848134995, -0.30595535039901733, -0.15510240197181702, -0.10038337111473083, -0.44003331661224365, -0.05975567549467087, -0.25271016359329224, -0.02889355830848217, -0.015411688014864922, -0.11666589975357056, 0.289421409368515, 0.1276942640542984, 0.018086222931742668, 0.047953613102436066, 0.1259448528289795, -0.45338183641433716, -0.010523058474063873, -0.15342630445957184, 0.4016186594963074, -0.08637358993291855, -0.15475520491600037, 0.05650072544813156, -0.2502637207508087, -0.22770825028419495, 0.2820797562599182, -0.04007352516055107, 0.16785429418087006, 0.18567761778831482, -0.15842348337173462, -0.19088919460773468, -0.4879705309867859, 0.03735518828034401, -0.16695715487003326, -0.2824980318546295, -0.10214295983314514, 0.48417848348617554, 0.47888803482055664, 0.3022611737251282, -0.030694779008626938, -0.760887622833252, 0.03353257104754448, -0.11974300444126129, -0.07426322251558304, -0.22336015105247498, 0.15803559124469757, 0.11049257963895798, 0.1476709395647049, -0.3395584225654602, 0.18951642513275146, -0.07008285820484161, -0.10381278395652771, 0.3434103727340698, -0.20844851434230804, -0.20281970500946045, 0.21699631214141846, 0.23880437016487122, -0.14063748717308044, 0.1864258050918579, -0.07906615734100342, 0.1911759376525879, -0.16173791885375977, -0.09391298145055771, 0.2593091130256653, 0.20180192589759827, -0.9375123977661133, 0.16292454302310944, -0.21036529541015625, 0.01732967235147953, 0.40489423274993896, -0.1920813024044037, -0.18822072446346283, 0.32951778173446655, 0.27975764870643616, 0.12615153193473816, -0.14388562738895416, -0.04364802688360214, -0.060628343373537064, -0.16439682245254517, 0.5820932388305664, 0.23879826068878174, 0.11450359970331192, 0.36456751823425293, -0.2790679335594177, -0.08600211888551712, -0.03139160946011543, 0.6778979897499084, -0.05840233713388443, -0.348270058631897, 0.09995707869529724, -1.6206755638122559, 0.2917303442955017, -0.06111373379826546, -0.02227681688964367, 0.7785158753395081, -0.0478881411254406, -0.26656609773635864, -0.5133028030395508, 0.13875767588615417, 0.2576441466808319, 0.18855823576450348, 0.12749867141246796, -0.0027322634123265743, 0.014725225046277046, 0.06315327435731888, -0.2565254271030426, -0.26168105006217957, 0.5253623723983765, -0.19561827182769775, 0.07765043526887894, 0.05858348309993744, 0.05365101248025894, -0.2855709195137024, -0.0034782711882144213, -0.055095940828323364, -0.15954755246639252, -0.21573519706726074, 0.013691488653421402, -0.5961387157440186, 0.4023720622062683, 0.19118034839630127, 0.3918263018131256, -0.4590950012207031, 0.08343186974525452, -0.21307362616062164, -0.3169642388820648, -0.5010485649108887, -0.24653655290603638, 0.444190114736557, -0.13747897744178772, 0.13572238385677338, 0.06116309389472008, -0.340253621339798, 0.09619496762752533, 0.3799758851528168, 0.06990911811590195, 0.8953557014465332, -0.5055144429206848, 0.15698745846748352, -0.32166337966918945, 0.44956138730049133, -0.11749421060085297, 0.05979175493121147, 0.09005121886730194, -0.13918495178222656, 0.14824330806732178, 0.016206517815589905, 0.6162295341491699, 0.2571304440498352, 0.12150611728429794, -0.09030195325613022, 0.19214457273483276, 0.2571246027946472, -0.10826656222343445, 0.0623791478574276, 0.48498231172561646, 0.12067195773124695, -0.021900372579693794, -0.2696693241596222, 0.09146559238433838, -0.44475528597831726, -0.09303157031536102, 0.08907188475131989, 0.12854371964931488, 0.1646570861339569, -0.3877676725387573, 0.6304541826248169, -0.28432226181030273, 0.4555129408836365, -0.09657444804906845, 0.39476364850997925, -0.07466199994087219, -0.10982164740562439, -0.18778756260871887, -0.09058966487646103, -0.2695966362953186, 0.10958187282085419, 0.04947894811630249, -0.533259928226471, 0.05524922162294388, -0.0032882895320653915, -0.04873638600111008, -0.03563513234257698, 0.3197566270828247, 0.4379679560661316, 0.04344632476568222, -0.28631940484046936, 0.016845565289258957, -0.15037649869918823, 0.18685580790042877, 0.07747349888086319, -0.09571420401334763, -0.5039820671081543, -0.04648277908563614, -0.37533241510391235, -0.018341686576604843, -0.14853332936763763, -0.347097784280777, 0.1141342744231224, -0.2977250814437866, 0.07899519056081772, 0.020557068288326263, -0.15912535786628723, -0.2751751244068146, -0.018828347325325012, 0.17557115852832794, 0.5045888423919678, -0.06121306121349335, -0.0757649689912796, -0.3437191843986511, 0.08939161151647568, 0.06411159038543701, 0.01115143857896328, -0.4113863706588745, 0.21598446369171143, -0.26446443796157837, -0.29806965589523315, -0.06424721330404282, 0.0010482333600521088, 0.351939857006073, 0.022670522332191467, 0.3124338984489441, 0.26878634095191956, 0.13780684769153595, -0.19805939495563507, -0.052402615547180176, -0.13624665141105652, -0.2966342866420746, -0.44587358832359314, -0.06975351274013519, 0.20403683185577393, 0.3628697395324707, -0.019662009552121162, 0.09846153110265732, -0.019534921273589134, 0.21328862011432648, -0.010215271264314651, 0.30171576142311096, 0.12668302655220032, -0.18813548982143402, -0.04627735912799835, -0.07343779504299164, -0.21340101957321167, -0.1946936845779419, -0.14621758460998535, -0.032286323606967926, 0.20217734575271606, -0.3834555149078369, 0.10043087601661682, -0.023172564804553986, -0.10868270695209503, 0.06374499201774597, -0.3490513563156128, 0.14331862330436707, 0.1203518956899643, 0.0037259049713611603, -0.12998716533184052, 0.2805427312850952, 0.2559281587600708, -0.17520888149738312, 0.1470690369606018, 0.006558656692504883, 0.14796453714370728, 0.044649675488471985, -0.08997748047113419, 0.17297159135341644, 0.41993266344070435, -0.06316810101270676, -0.25354212522506714, 0.014073319733142853, -0.4130440950393677, -0.33394569158554077, -0.019228097051382065, -0.045171357691287994, 0.09282234311103821, -0.025590423494577408, 0.04358585551381111, 0.07428878545761108, -0.273093044757843, -0.2899502217769623, -0.37504860758781433, -0.38879144191741943, -0.05167698860168457, -0.1858636438846588, -0.6019783616065979, 0.14493027329444885, 0.05451720580458641, 0.0776619091629982, -0.2441478669643402, 0.30120211839675903, -0.4008951783180237, 0.24671335518360138, -0.056520864367485046, -0.12019769847393036, 0.17877979576587677, 0.08804328739643097, -0.22259891033172607, -0.17192888259887695, 0.42225223779678345, 0.26558905839920044, -0.23343653976917267, 0.13076919317245483, 0.2519780993461609, -0.27621740102767944, -0.399814248085022, 0.060250233858823776, -0.1851065307855606, -0.08706332743167877, 0.49531716108322144, 0.007093159481883049, -0.08992695808410645, 0.1100120097398758, 0.15959453582763672, -0.24309933185577393, 0.22880753874778748, -0.5257619023323059, -0.0008109882473945618, 0.21709191799163818, -0.3110867142677307, -0.0909804031252861, -0.308708131313324, 0.042325105518102646, 0.2559751868247986, 0.6397473812103271, -0.04160946607589722, 0.05093001201748848, 1.020164966583252, -0.3473384976387024, 0.10523518919944763, 0.16792859137058258, -0.27273136377334595, -0.25627171993255615, 0.43937522172927856, -0.228376567363739, -0.24450579285621643, -0.15858939290046692, -0.04083571583032608, -0.40391844511032104, -0.40839576721191406, 0.22959575057029724, 0.29464855790138245, 0.10672210156917572, 0.4021850824356079, 0.1365627944469452, 0.08962036669254303, -0.4313739836215973, 0.03256135433912277, -0.3183076083660126, 0.30723851919174194, 0.3034599721431732, -0.051319368183612823, 0.2816970944404602, -0.08400264382362366, 0.13430285453796387, 0.046461883932352066, -0.5607806444168091, -0.22502663731575012, 0.08569018542766571, -0.31254497170448303, -0.08717930316925049, -0.2418716847896576, -0.010964332148432732, 0.30521708726882935, 0.4797931909561157, -0.16223061084747314, 0.34036344289779663, -0.3657018542289734, -0.2629718482494354, 0.20849280059337616, 0.062355853617191315, -0.0035543814301490784, -0.3410227298736572, -0.2937467694282532, 0.021861890330910683, -0.5479329824447632, -0.1386420875787735, -0.1436777412891388, 0.12396898865699768, 0.07353278994560242, -0.23915651440620422, 0.04368637874722481, -0.020089425146579742, -0.45306921005249023, -0.2729228138923645, -0.29905474185943604, -0.37846553325653076, 0.10755196958780289, 0.2028403878211975, -0.12949171662330627, -0.04228625446557999, 0.1789775788784027, -0.1609964370727539, 0.014728207141160965, -0.11624381691217422, -0.0315023772418499, 0.18375438451766968, -0.16267243027687073, 0.038836441934108734, 1.4289870262145996, -0.23270925879478455, 0.1842568963766098, 0.060273509472608566, -0.24904707074165344, 0.13488806784152985, 0.3211287260055542, 0.042578984051942825, -0.04265083000063896, -0.24949395656585693, -0.20376597344875336, -0.08502836525440216, 0.3749721944332123, -0.23799823224544525, 0.00969107635319233, 0.14248502254486084, 0.06038103625178337, 0.1497233361005783, -0.33100461959838867, -0.0756065770983696, -0.13595503568649292, -0.20759901404380798, 0.3942562937736511, 0.4019380211830139, 0.22236746549606323, -0.32679039239883423, -0.16509827971458435, 0.13399405777454376, 0.006441738456487656, -0.713369607925415, -0.45876049995422363, 0.448981910943985, -0.49759358167648315, 0.22139421105384827, 0.16709333658218384, -0.06128357723355293, -0.4185211658477783], payload={'url': 'http://g1.globo.com/sp/sao-paulo/noticia/2023/04/29/thiago-brennand-chega-a-sp-escoltado-pela-pf.ghtml', 'title': 'Thiago Brennand chega à sede da PF em São Paulo após ser preso e extraditado pelos Emirados Árabes', 'titleCharCount': 98, 'textCharCount': 3603, 'topics': ['são paulo'], 'body': 'Brennand chega a São Paulo escoltado pela PF\\nMarcelo Campos e Ricardo Vital/TV Globo\\nO empresário e herdeiro Thiago Brennand chegou ao Brasil na tarde deste sábado (29) pelo Aeroporto Internacional de São Paulo, em Guarulhos. O voo saiu do aeroporto Charles de Gaulle, em Paris, de manhã.\\nA equipe da Polícia Federal responsável por trazê-lo embarcou na madrugada da quinta-feira (27) aos Emirados Árabes. \\nUm delegado, dois agentes da Polícia Federal e um escrivão da Interpol treinado em jiu-jítsu fazem parte do grupo. Brennand apareceu de boné, usando máscara e com as mãos cobertas.\\nEle é acusado de estupro, agressão, cárcere privado e ameaça, e foi preso nos Emirados Árabes em 17 de abril.\\nThiago Brennand chega à sede da PF em São Paulo após ser preso e extraditado pelos Emirados Árabes\\nSegundo a PF, o herdeiro passará por audiência de custódia no domingo e será transferido para uma unidade prisional.\\nA Polícia Civil, no entanto, defendia que Brennand fosse custodiado pela corporação assim que chegasse a Guarulhos e, de lá, encaminhado a uma unidade prisional.\\nNas redes sociais, Thiago se apresenta com fotos vestindo faixa preta e divulga um suposto diploma de professor de jiu-jítsu formado no Rio de Janeiro em dezembro de 2019.\\nThiago Brennand: Veja acusações contra empresário\\nEle é acusado de estupro, agressão, cárcere privado e ameaça. Durante a prisão, Brennand resistiu, disse que era inocente e que estava sendo injustiçado. \\nA inteligência da polícia dos Emirados Árabes agiu rápido porque desconfiou que o empresário fosse tentar fugir para a Rússia, onde o empresário tem amigos e já morou antes da pandemia. \\nBrennand detido e extraditado \\nBrennand já posou com fotos dizendo ser faixa preta em artes marciais\\nReprodução/Facebook\\nO empresário foi detido em um hotel em Abu Dhabi no dia 17, após ter a extradição autorizada; na ocasião, ele disse que estava sendo injustiçado; \\nHá cinco mandados de prisão preventiva em território brasileiro contra o empresário, por acusações de agredir uma modelo, sequestrar, tatuar, estuprar uma segunda mulher e estuprar uma jovem e uma miss.\\nQuatro agentes da PF vão buscar Thiago Brennand nos Emirados Árabes Unidos\\nVítimas com sensação de justiça\\nMarcio Cezar Janjacomo, advogado que representa 12 vítimas de Brennand, disse que as clientes estão com a sensação de justiça.\\n\"Nenhuma delas estava acreditando mais na Justiça. Estavam desiludidas, porque \\'poxa vida, não prendem, não acontece\\', enfim. Estão todas muito felizes com o resultado\", disse.\\nLula negociou extradição\\nNo dia 12 de abril, o g1 publicou que a extradição de Brennand seria um dos assuntos abordados pelo presidente Luiz Inácio Lula da Silva (PT) durante sua passagem pelos Emirados Árabes. \\nApós passar pela China, Lula chegou ao país árabe no dia 15. Depois de se encontrar com o presidente local, foi questionado sobre as tratativas da extradição de Thiago Brennand e negou ter discutido o assunto, mas depois confirmou que as autoridades tinham aprovado o pedido.\\n\\'Eu acho que ele tem que pagar\\', diz Lula após confirmar extradição de Thiago Brennand\\nLEIA TAMBÉM\\nAgressão a modelo — Aluna de academia em shopping de luxo de SP relata agressão de empresário: \\'Ele falou: ‘Vou cuspir em você porque você merece’\\nTatuagem \"TFV\" — Mulher relata agressões e diz ter sido obrigada a tatuar iniciais de empresário: ‘É um monstro’\\nSuspeita de estupro — Estudante de medicina acredita que foi dopada por empresário em jantar: ‘Completamente desorientada’\\nAcusação de maus-tratos — Ex-funcionário diz que Thiago Brennand batia e dava choques no filho: \\'Cara desumano\\'', 'publishTimestamp': 1682801684.0})]"
      ]
     },
     "execution_count": 117,
     "metadata": {},
     "output_type": "execute_result"
    }
   ],
   "source": []
  },
  {
   "cell_type": "code",
   "execution_count": 80,
   "metadata": {},
   "outputs": [
    {
     "name": "stderr",
     "output_type": "stream",
     "text": [
      "0it [00:00, ?it/s]"
     ]
    },
    {
     "name": "stderr",
     "output_type": "stream",
     "text": [
      "3558it [3:08:42,  3.18s/it] \n"
     ]
    }
   ],
   "source": [
    "from qdrant_client.http.models import PointStruct\n",
    "\n",
    "metadata_columns = df.drop([\"newsId\", \"sentence\"], axis=1).columns\n",
    "\n",
    "def create_vector_point(row:pd.Series) -> PointStruct:\n",
    "    return PointStruct(\n",
    "        id=row[\"newsId\"],\n",
    "        vector=encoder.encode(row[\"sentence\"]).tolist(),\n",
    "        payload={\n",
    "            field: row[field]\n",
    "            for field in metadata_columns\n",
    "            if (str(row[field]) not in ['None', 'nan'])\n",
    "        }\n",
    "    )\n",
    "\n",
    "points = df.apply(create_vector_point, axis=1).tolist()\n"
   ]
  },
  {
   "cell_type": "markdown",
   "metadata": {},
   "source": [
    "# Uploading Vectors"
   ]
  },
  {
   "cell_type": "code",
   "execution_count": 81,
   "metadata": {},
   "outputs": [
    {
     "name": "stdout",
     "output_type": "stream",
     "text": [
      "Processing chunk 1/8\n",
      "Processing chunk 2/8\n",
      "Processing chunk 3/8\n",
      "Processing chunk 4/8\n",
      "Processing chunk 5/8\n",
      "Processing chunk 6/8\n",
      "Processing chunk 7/8\n",
      "Processing chunk 8/8\n"
     ]
    }
   ],
   "source": [
    "CHUNK_SIZE = 500\n",
    "n_chunks = np.ceil(len(points)/CHUNK_SIZE)\n",
    "\n",
    "for i, points_chunk in enumerate(np.array_split(points, n_chunks)):\n",
    "    print (f\"Processing chunk {i+1}/{int(n_chunks)}\")\n",
    "    operation_info = client.upsert(\n",
    "        collection_name=collection_name,\n",
    "        wait=True,\n",
    "        points=points_chunk.tolist()\n",
    "    )"
   ]
  },
  {
   "cell_type": "code",
   "execution_count": 82,
   "metadata": {},
   "outputs": [
    {
     "data": {
      "text/plain": [
       "3558"
      ]
     },
     "execution_count": 82,
     "metadata": {},
     "output_type": "execute_result"
    }
   ],
   "source": [
    "client.get_collection(collection_name).vectors_count"
   ]
  },
  {
   "cell_type": "markdown",
   "metadata": {},
   "source": [
    "# Querying Database"
   ]
  },
  {
   "cell_type": "code",
   "execution_count": 84,
   "metadata": {},
   "outputs": [
    {
     "data": {
      "text/plain": [
       "([Record(id='004b22c3-87f5-4270-b6bb-4ddfc8490f2a', payload={'title': 'Lira manda recado após veto de indicado para o Tribunal Regional Federal da 1ª Região', 'titleCharCount': 85, 'topics': ['política']}, vector=None),\n",
       "  Record(id='007fa598-ce88-42a5-b63b-c6810614e663', payload={'title': 'Moraes vota para tornar réus 200 denunciados de incitar e executar atos golpistas de 8 de janeiro', 'titleCharCount': 97, 'topics': ['política']}, vector=None),\n",
       "  Record(id='00b89b4c-d912-4394-84de-97a94abe8ca9', payload={'title': 'Terremoto de magnitude 5,7 atinge costa de Valparaíso, no Chile', 'titleCharCount': 63, 'topics': ['mundo']}, vector=None),\n",
       "  Record(id='0114fb71-893f-4a84-839b-5a9b3ddd2b38', payload={'title': 'Projetos do governo passam a travar pauta da Câmara na próxima semana; veja quais', 'titleCharCount': 81, 'topics': ['política']}, vector=None),\n",
       "  Record(id='0152157d-a7cc-48be-9bda-a5c2b0ae9207', payload={'title': 'Mortos em seita de jejum no Quênia chegam a 73', 'titleCharCount': 46, 'topics': ['mundo']}, vector=None)],\n",
       " '01fc725c-c544-460b-a818-04b415497fca')"
      ]
     },
     "execution_count": 84,
     "metadata": {},
     "output_type": "execute_result"
    }
   ],
   "source": [
    "# https://qdrant.tech/documentation/concepts/filtering/\n",
    "from qdrant_client.models import Filter\n",
    "from qdrant_client.http import models\n",
    "\n",
    "client.scroll(\n",
    "    collection_name=collection_name,\n",
    "    limit=5,\n",
    "    with_payload=[\"newsId\", \"title\", \"topics\"],\n",
    "    with_vectors=False,\n",
    "    scroll_filter=Filter(\n",
    "        must=[\n",
    "            models.FieldCondition(key=\"topics\", match=models.MatchAny(any=[\"política\", \"mundo\"])),\n",
    "        ]\n",
    "    )\n",
    ")"
   ]
  },
  {
   "cell_type": "code",
   "execution_count": 94,
   "metadata": {},
   "outputs": [
    {
     "data": {
      "text/plain": [
       "[ScoredPoint(id='4159a128-f6c0-44a7-b08f-0a17f099d43f', version=0, score=0.3904202143986567, payload={'title': 'Paraguaios vão às urnas neste domingo (30) para escolher novo presidente', 'titleCharCount': 72, 'topics': ['jornal-nacional']}, vector=None),\n",
       " ScoredPoint(id='e4db00c9-7bcb-4c88-a502-4c6c840dde30', version=0, score=0.38603588889463514, payload={'title': 'Eleitores dizem que Biden e Trump não deveriam concorrer em 2024, mostra pesquisa Reuters/Ipsos', 'titleCharCount': 95, 'topics': ['mundo']}, vector=None),\n",
       " ScoredPoint(id='8efe078b-9f42-446e-a970-9abfe408bb84', version=0, score=0.3775547801532631, payload={'title': 'Escritora acusa Trump de ter abusado sexualmente dela nos anos 1990', 'titleCharCount': 67, 'topics': ['jornal-nacional']}, vector=None),\n",
       " ScoredPoint(id='d2f89819-e36d-4e23-a13c-47c582fe1363', version=0, score=0.37731883793134285, payload={'title': 'Mike Pence, ex-vice de Donald Trump, presta depoimento na Justiça que pode complicar o ex-presidente', 'titleCharCount': 100, 'topics': ['mundo']}, vector=None),\n",
       " ScoredPoint(id='4619ee33-07b6-4121-8724-cdc4905bd962', version=0, score=0.36932202920146134, payload={'title': 'EUA: os 4 motivos que levaram Biden a se lançar à reeleição', 'titleCharCount': 59, 'topics': ['mundo']}, vector=None),\n",
       " ScoredPoint(id='369d6b6d-ec75-42f5-8851-f570830fdd17', version=0, score=0.36286615565839, payload={'title': 'Presidentes da Ucrânia e da China conversam pela primeira vez desde o começo da invasão russa', 'titleCharCount': 93, 'topics': ['jornal-nacional']}, vector=None),\n",
       " ScoredPoint(id='6b14ea82-b36a-4f5c-858c-d24f9943119a', version=0, score=0.3600819292805504, payload={'title': 'Dom Jaime Spengler é eleito presidente da CNBB', 'titleCharCount': 46, 'topics': ['jornal-nacional']}, vector=None),\n",
       " ScoredPoint(id='010fdb01-fd05-443a-b115-793beb98a465', version=0, score=0.3530822029878401, payload={'title': \"'The Flash' ganha novo trailer; ASSISTA\", 'titleCharCount': 39, 'topics': ['pop-arte']}, vector=None),\n",
       " ScoredPoint(id='c60daa06-0ec0-4ed4-b414-5dd9fa76c16f', version=0, score=0.35016246877634816, payload={'title': 'Ex-presidente dos Estados Unidos, Mike Pence, presta depoimento no caso que investiga envolvimento de Trump na invasão do Capitólio', 'titleCharCount': 131, 'topics': ['jornal-nacional']}, vector=None),\n",
       " ScoredPoint(id='9ed25e49-14f9-44cd-b76e-a104b4dfabca', version=0, score=0.34956387080358076, payload={'title': 'Saiba por que Joe Biden lançou sua candidatura à reeleição nesta terça-feira', 'titleCharCount': 76, 'topics': ['mundo']}, vector=None)]"
      ]
     },
     "execution_count": 94,
     "metadata": {},
     "output_type": "execute_result"
    }
   ],
   "source": [
    "# https://qdrant.tech/documentation/concepts/filtering/\n",
    "from qdrant_client.models import Filter\n",
    "from qdrant_client.http import models\n",
    "\n",
    "query_text = \"Donald Trump\"\n",
    "query_vector = encoder.encode(query_text).tolist()\n",
    "\n",
    "client.search(\n",
    "    collection_name=collection_name,\n",
    "    query_vector=query_vector,\n",
    "    limit=10,\n",
    "    with_payload=[\"newsId\", \"title\", \"topics\"],\n",
    "    with_vectors=False,\n",
    "    score_threshold=0,\n",
    "    query_filter=None\n",
    ")"
   ]
  },
  {
   "cell_type": "code",
   "execution_count": null,
   "metadata": {},
   "outputs": [],
   "source": []
  },
  {
   "cell_type": "code",
   "execution_count": 89,
   "metadata": {},
   "outputs": [
    {
     "data": {
      "text/plain": [
       "[ScoredPoint(id='6087ba13-40d7-4f44-ae77-2abb26e6193e', version=0, score=0.9814363121986389, payload={'title': 'Dólar fecha em alta, em linha com o exterior e de olho em Campos Neto no Senado', 'titleCharCount': 79, 'topics': ['economia']}, vector=None),\n",
       " ScoredPoint(id='77a71db8-cffb-4260-9ca8-f8221951c301', version=0, score=0.9806766510009766, payload={'title': 'Dólar cai e volta a fechar abaixo de R$ 5, após PIB fraco nos EUA e de olho em falas de Haddad e Campos Neto ', 'titleCharCount': 109, 'topics': ['economia']}, vector=None),\n",
       " ScoredPoint(id='2a3e52aa-b1d0-4abe-b0d4-de5898eef1a9', version=0, score=0.9711627960205078, payload={'title': 'Ibovespa recua e fecha aos 103 mil pontos, puxado por Vale', 'titleCharCount': 58, 'topics': ['economia']}, vector=None),\n",
       " ScoredPoint(id='138d0e41-6d9f-4b6f-bc7b-e568adfaa213', version=0, score=0.967682957649231, payload={'title': 'Dólar sobe nesta sexta-feira, mas fecha o mês abaixo de R$ 5', 'titleCharCount': 60, 'topics': ['economia']}, vector=None),\n",
       " ScoredPoint(id='5765a305-f4f6-402f-a3aa-444edf2477da', version=0, score=0.9612639546394348, payload={'title': 'Ibovespa fecha em queda, atento aos juros dos EUA e Campos Neto no Senado', 'titleCharCount': 73, 'topics': ['economia']}, vector=None),\n",
       " ScoredPoint(id='310080ed-daf9-421a-acf7-a79841e9002c', version=0, score=0.9579496383666992, payload={'title': 'Ibovespa fecha em alta, com PIB fraco nos EUA e audiência no Senado com Haddad e Campos Neto', 'titleCharCount': 92, 'topics': ['economia']}, vector=None),\n",
       " ScoredPoint(id='1337a161-9f3a-4d4d-a54d-288888de4282', version=0, score=0.9497281908988953, payload={'title': 'Dólar paralelo dispara na Argentina e governo culpa oposição e especuladores', 'titleCharCount': 76, 'topics': ['economia']}, vector=None),\n",
       " ScoredPoint(id='35fd19a8-e18a-4771-b1f7-ff7a5d1cba1a', version=0, score=0.9441820979118347, payload={'title': 'Ibovespa recua e fecha aos 102 mil pontos, com IPCA-15 abaixo das expectativas e dados dos EUA no radar', 'titleCharCount': 103, 'topics': ['economia']}, vector=None),\n",
       " ScoredPoint(id='e25794bc-7782-42a2-8568-74d10c08a681', version=0, score=0.9401822090148926, payload={'title': 'Campos Neto diz que BC define taxa de juros de forma técnica e avalia que inflação continua alta', 'titleCharCount': 96, 'topics': ['economia']}, vector=None),\n",
       " ScoredPoint(id='1642fc69-9e95-421b-9eeb-fdf34bade0f1', version=0, score=0.9393567442893982, payload={'title': 'Fala de Campos Neto repercute mal e aumenta pressão por uso de bancos públicos para baixar juros', 'titleCharCount': 96, 'topics': ['economia', 'política']}, vector=None)]"
      ]
     },
     "execution_count": 89,
     "metadata": {},
     "output_type": "execute_result"
    }
   ],
   "source": [
    "\n",
    "client.recommend(\n",
    "    collection_name=collection_name,\n",
    "    positive=['8bc22460-532c-449b-ad71-28dd86790ca2'],\n",
    "    limit = 10,\n",
    "    with_payload=[\"newsId\", \"title\", \"topics\"],\n",
    "    with_vectors=False,\n",
    "    score_threshold=0,\n",
    "    query_filter=None\n",
    ")"
   ]
  },
  {
   "cell_type": "code",
   "execution_count": 120,
   "metadata": {},
   "outputs": [
    {
     "data": {
      "text/plain": [
       "'Saiba por que Joe Biden lançou sua candidatura à reeleição nesta terça-feira'"
      ]
     },
     "execution_count": 120,
     "metadata": {},
     "output_type": "execute_result"
    }
   ],
   "source": [
    "df.query('newsId == \"9ed25e49-14f9-44cd-b76e-a104b4dfabca\"')[\"title\"].tolist()[0]"
   ]
  },
  {
   "cell_type": "code",
   "execution_count": 95,
   "metadata": {},
   "outputs": [
    {
     "data": {
      "text/plain": [
       "[Record(id='9ed25e49-14f9-44cd-b76e-a104b4dfabca', payload={'title': 'Saiba por que Joe Biden lançou sua candidatura à reeleição nesta terça-feira', 'titleCharCount': 76, 'topics': ['mundo']}, vector=None)]"
      ]
     },
     "execution_count": 95,
     "metadata": {},
     "output_type": "execute_result"
    }
   ],
   "source": [
    "seed_ids = [\"9ed25e49-14f9-44cd-b76e-a104b4dfabca\"]\n",
    "\n",
    "seed_records = client.scroll(\n",
    "    collection_name=collection_name,\n",
    "    limit=5,\n",
    "    with_payload=[\"newsId\", \"title\", \"topics\"],\n",
    "    with_vectors=False,\n",
    "    scroll_filter=Filter(\n",
    "        must=[\n",
    "            models.HasIdCondition(has_id=seed_ids),\n",
    "        ]\n",
    "    )\n",
    ")[0]\n",
    "\n",
    "seed_records"
   ]
  },
  {
   "cell_type": "code",
   "execution_count": 96,
   "metadata": {},
   "outputs": [
    {
     "data": {
      "text/plain": [
       "[ScoredPoint(id='38a1cd6f-aa07-4264-8ca1-4cddf05e7afe', version=0, score=0.9734960794448853, payload={'title': 'Biden anuncia que vai concorrer à reeleição', 'titleCharCount': 43, 'topics': ['mundo']}, vector=None),\n",
       " ScoredPoint(id='4619ee33-07b6-4121-8724-cdc4905bd962', version=0, score=0.9709303975105286, payload={'title': 'EUA: os 4 motivos que levaram Biden a se lançar à reeleição', 'titleCharCount': 59, 'topics': ['mundo']}, vector=None),\n",
       " ScoredPoint(id='e4db00c9-7bcb-4c88-a502-4c6c840dde30', version=0, score=0.960002064704895, payload={'title': 'Eleitores dizem que Biden e Trump não deveriam concorrer em 2024, mostra pesquisa Reuters/Ipsos', 'titleCharCount': 95, 'topics': ['mundo']}, vector=None),\n",
       " ScoredPoint(id='7f45e444-b220-47e4-933a-ac6dc3074f56', version=0, score=0.9580975770950317, payload={'title': 'A gafe de assessora de Biden que gerou dúvidas sobre eventual segundo governo após eleição', 'titleCharCount': 90, 'topics': ['mundo']}, vector=None),\n",
       " ScoredPoint(id='d2f89819-e36d-4e23-a13c-47c582fe1363', version=0, score=0.9529173374176025, payload={'title': 'Mike Pence, ex-vice de Donald Trump, presta depoimento na Justiça que pode complicar o ex-presidente', 'titleCharCount': 100, 'topics': ['mundo']}, vector=None),\n",
       " ScoredPoint(id='c3da0f44-407a-4883-aed2-75f66db82336', version=0, score=0.9514657258987427, payload={'title': 'Com menos de um ano no poder, 1º presidente de esquerda da Colômbia pede renúncia de todos os ministros', 'titleCharCount': 103, 'topics': ['mundo']}, vector=None),\n",
       " ScoredPoint(id='0d92cee1-206d-47df-8705-a5627020e09e', version=0, score=0.9448452591896057, payload={'title': 'Paraguai vai às urnas no domingo em eleições dominadas por corrupção e Taiwan', 'titleCharCount': 77, 'topics': ['mundo']}, vector=None),\n",
       " ScoredPoint(id='8d7554f5-4523-4554-88c2-ba33e2eaf3fb', version=0, score=0.9438812732696533, payload={'title': 'O que pode estar por trás de saída de Tucker Carlson da Fox News', 'titleCharCount': 64, 'topics': ['mundo']}, vector=None),\n",
       " ScoredPoint(id='9290ad10-1b02-4840-9a16-5dc695be496f', version=0, score=0.9432411789894104, payload={'title': 'Rede CNN dos EUA demite Don Lemon, um de seus principais apresentadores', 'titleCharCount': 71, 'topics': ['mundo']}, vector=None),\n",
       " ScoredPoint(id='f9408609-146f-44b1-9fb3-242385193a9b', version=0, score=0.9409559965133667, payload={'title': 'Santiago Peña, de 44 anos, vence eleições no Paraguai', 'titleCharCount': 53, 'topics': ['mundo']}, vector=None)]"
      ]
     },
     "execution_count": 96,
     "metadata": {},
     "output_type": "execute_result"
    }
   ],
   "source": [
    "match_key = \"topics\"\n",
    "\n",
    "client.recommend(\n",
    "    collection_name=collection_name,\n",
    "    positive=[record.id for record in seed_records],\n",
    "    limit = 10,\n",
    "    with_payload=[\"newsId\", \"title\", \"topics\"],\n",
    "    with_vectors=False,\n",
    "    score_threshold=0,\n",
    "    query_filter=Filter(\n",
    "        should=[\n",
    "            models.FieldCondition(key=match_key, match=models.MatchAny(any=record.payload[match_key]))\n",
    "            for record in seed_records\n",
    "        ]\n",
    "    )\n",
    ")"
   ]
  }
 ],
 "metadata": {
  "kernelspec": {
   "display_name": "open-ai",
   "language": "python",
   "name": "python3"
  },
  "language_info": {
   "codemirror_mode": {
    "name": "ipython",
    "version": 3
   },
   "file_extension": ".py",
   "mimetype": "text/x-python",
   "name": "python",
   "nbconvert_exporter": "python",
   "pygments_lexer": "ipython3",
   "version": "3.8.18"
  }
 },
 "nbformat": 4,
 "nbformat_minor": 2
}
